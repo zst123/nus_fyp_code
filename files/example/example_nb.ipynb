{
 "cells": [
  {
   "cell_type": "markdown",
   "metadata": {},
   "source": [
    "# Crossbar notebook example"
   ]
  },
  {
   "cell_type": "markdown",
   "metadata": {},
   "source": [
    "Install LTspice and Wine with scripts from the `ltspice_docker` directory:\n",
    "\n",
    "First setup of docker\n",
    "- `./docker_firstrun.sh`\n",
    "- `./docker_service.sh`\n",
    "\n",
    "To build Docker container\n",
    "- `./build.sh`\n",
    "- Follow install instructions when GUI pops up\n",
    "\n",
    "To start and stop\n",
    "- `./start.sh`\n",
    "- `./stop.sh`\n",
    "\n",
    "To launch LTspice\n",
    "- `./ltspice.sh <args>`\n",
    "\n",
    "To remove build and delete Docker container\n",
    "- `./unbuild.sh`\n"
   ]
  },
  {
   "cell_type": "markdown",
   "metadata": {},
   "source": [
    "## Prepare environment"
   ]
  },
  {
   "cell_type": "markdown",
   "metadata": {},
   "source": [
    "### <mark>Install libraries</mark>\n"
   ]
  },
  {
   "cell_type": "code",
   "execution_count": null,
   "metadata": {},
   "outputs": [],
   "source": [
    "!pip3 install scipy numpy ltspice ipympl"
   ]
  },
  {
   "cell_type": "markdown",
   "metadata": {},
   "source": [
    "### <mark>Setup paths</mark>"
   ]
  },
  {
   "cell_type": "code",
   "execution_count": null,
   "metadata": {},
   "outputs": [],
   "source": [
    "# Add folder containing scripts to the path\n",
    "import sys\n",
    "sys.path.append('../') ## Change accordingly\n",
    "\n",
    "# Command to execute LTSpice launch\n",
    "LTSPICE_INSTANCE = \"../../ltspice.sh\" ## Change accordingly"
   ]
  },
  {
   "cell_type": "code",
   "execution_count": null,
   "metadata": {},
   "outputs": [],
   "source": [
    "# Store relative path from ltspice docker to current directory\n",
    "import os\n",
    "from pathlib import Path\n",
    "\n",
    "ltspice_absolute = os.path.realpath(\"../../ltspice.sh\")\n",
    "ltspice_dir = os.path.dirname(ltspice_absolute)\n",
    "notebook_dir = os.getcwd()\n",
    "\n",
    "CURRENT_FOLDER = Path(notebook_dir).relative_to(ltspice_dir)\n",
    "print(\"CURRENT_FOLDER:\", CURRENT_FOLDER)"
   ]
  },
  {
   "cell_type": "code",
   "execution_count": null,
   "metadata": {},
   "outputs": [],
   "source": [
    "# Reload libraries automatically if is being changed on the fly\n",
    "%load_ext autoreload\n",
    "%autoreload 2"
   ]
  },
  {
   "cell_type": "markdown",
   "metadata": {},
   "source": [
    "## Generator"
   ]
  },
  {
   "cell_type": "markdown",
   "metadata": {},
   "source": [
    "### <mark>Library setup</mark>\n"
   ]
  },
  {
   "cell_type": "code",
   "execution_count": null,
   "metadata": {},
   "outputs": [],
   "source": [
    "# Library package\n",
    "import generator as gen"
   ]
  },
  {
   "cell_type": "markdown",
   "metadata": {},
   "source": [
    "### <mark>Generate memristor cell subcircuit</mark>\n",
    "Generate cell with specified number of states\n",
    "- `resistance_states` should be ordered from high resistance to low resistance, where the value of the state is in $\\Omega$\n",
    "- it takes in either integers, or strings with engineering suffix"
   ]
  },
  {
   "cell_type": "code",
   "execution_count": null,
   "metadata": {},
   "outputs": [],
   "source": [
    "my_states = ['1k', '200'] # strings with engineering suffix\n",
    "# my_states = [1000, 200] # integers are also accepted\n",
    "gen.generate_cell(resistance_states=my_states, cell_subcircuit=\"cell_subcircuit\")"
   ]
  },
  {
   "cell_type": "markdown",
   "metadata": {},
   "source": [
    "The following files are generated\n",
    "- Schematic: `cell_subcircuit.asc`\n",
    "- Subcircuit: `cell_subcircuit.asy`"
   ]
  },
  {
   "cell_type": "code",
   "execution_count": null,
   "metadata": {},
   "outputs": [],
   "source": [
    "!$LTSPICE_INSTANCE $CURRENT_FOLDER/cell_subcircuit.asc\n",
    "# !$LTSPICE_INSTANCE $CURRENT_FOLDER/cell_subcircuit.asy"
   ]
  },
  {
   "cell_type": "markdown",
   "metadata": {},
   "source": [
    "### <mark>Generate crossbar array subcircuit</mark>\n"
   ]
  },
  {
   "cell_type": "markdown",
   "metadata": {},
   "source": [
    "Generate a crossbar of specified number of bitlines and wordlines"
   ]
  },
  {
   "cell_type": "code",
   "execution_count": null,
   "metadata": {},
   "outputs": [],
   "source": [
    "gen.generate_cba(wordline=8, bitline=8, filename=\"crossbar_subcircuit\", cell_subcircuit=\"cell_subcircuit\", wrapper=\"crossbar_wrapper_template\")"
   ]
  },
  {
   "cell_type": "markdown",
   "metadata": {},
   "source": [
    "The following files are generated\n",
    "\n",
    "- crossbar_subcircuit.asc\n",
    "- crossbar_subcircuit.asy\n",
    "- crossbar_wrapper_template.asc"
   ]
  },
  {
   "cell_type": "code",
   "execution_count": null,
   "metadata": {},
   "outputs": [],
   "source": [
    "!$LTSPICE_INSTANCE $CURRENT_FOLDER/crossbar_subcircuit.asc\n",
    "# !$LTSPICE_INSTANCE $CURRENT_FOLDER/crossbar_subcircuit.asy\n",
    "# !$LTSPICE_INSTANCE $CURRENT_FOLDER/crossbar_wrapper_template.asc"
   ]
  },
  {
   "cell_type": "markdown",
   "metadata": {},
   "source": [
    "## Simulator"
   ]
  },
  {
   "cell_type": "markdown",
   "metadata": {},
   "source": [
    "### <mark>Library setup</mark>"
   ]
  },
  {
   "cell_type": "code",
   "execution_count": null,
   "metadata": {},
   "outputs": [],
   "source": [
    "# Library package\n",
    "import simulator as sim\n",
    "sim.set_ltspice(exe=LTSPICE_INSTANCE, dir=CURRENT_FOLDER)"
   ]
  },
  {
   "cell_type": "markdown",
   "metadata": {},
   "source": [
    "### <mark>Convert LTSpice schematic to generic spice netlist</mark>"
   ]
  },
  {
   "cell_type": "code",
   "execution_count": null,
   "metadata": {},
   "outputs": [],
   "source": [
    "# Convert to a generic netlist\n",
    "sim.convert_ltspice_sch_to_netlist(filename=\"crossbar_wrapper_template\")"
   ]
  },
  {
   "cell_type": "code",
   "execution_count": null,
   "metadata": {},
   "outputs": [],
   "source": [
    "# Preview netlist with placeholder parameters \n",
    "!$LTSPICE_INSTANCE $CURRENT_FOLDER/crossbar_wrapper_template.net"
   ]
  },
  {
   "cell_type": "markdown",
   "metadata": {},
   "source": [
    "##### Example for 3x3 crossbar array"
   ]
  },
  {
   "cell_type": "code",
   "execution_count": null,
   "metadata": {},
   "outputs": [],
   "source": [
    "# io = {\n",
    "#     'WORD': [1, 1, 1],\n",
    "#     'BIT': [0, 0, 0],\n",
    "#     'G': [\n",
    "#         [0, 0, 1],\n",
    "#         [0, 0, 1],\n",
    "#         [0, 0, 1], \n",
    "#     ],\n",
    "# }\n",
    "# result = sim.simulate_netlist(wordline=3, bitline=3, io=io, netlist=\"crossbar_wrapper_template\", tmp_id=8)"
   ]
  },
  {
   "cell_type": "markdown",
   "metadata": {},
   "source": [
    "##### Example for 8x8 crossbar array"
   ]
  },
  {
   "cell_type": "code",
   "execution_count": null,
   "metadata": {},
   "outputs": [],
   "source": [
    "io = {\n",
    "    'WORD': [1,1,1,1,1,1,1,1],\n",
    "    'BIT':  [0,0,0,0,0,0,0,0],\n",
    "    'G': [\n",
    "        [1,0,0,0,0,0,0,0],\n",
    "        [0,1,0,0,0,0,0,0],\n",
    "        [0,0,1,0,0,0,0,0], \n",
    "        [0,0,0,1,0,0,0,0], \n",
    "        [0,0,0,0,1,0,0,0], \n",
    "        [0,0,0,0,0,1,0,0], \n",
    "        [0,0,0,0,0,0,1,0], \n",
    "        [0,0,0,0,0,0,0,1], \n",
    "    ],\n",
    "}\n",
    "result = sim.simulate_netlist(wordline=8, bitline=8, io=io, netlist=\"crossbar_wrapper_template\", tmp_id=7)"
   ]
  },
  {
   "cell_type": "markdown",
   "metadata": {},
   "source": [
    "### <mark>Plot the results</mark>"
   ]
  },
  {
   "cell_type": "code",
   "execution_count": null,
   "metadata": {},
   "outputs": [],
   "source": [
    "print('word_current', result['word_current'])\n",
    "print('bit_current', result['bit_current'])"
   ]
  },
  {
   "cell_type": "code",
   "execution_count": null,
   "metadata": {},
   "outputs": [],
   "source": [
    "%matplotlib widget\n",
    "import matplotlib.pyplot as plt\n",
    "\n",
    "plt.figure(figsize=(8,4))\n",
    "\n",
    "y = result['bit_current']\n",
    "x = list(map(lambda a: f\"bit{a}\", range(len(y))))\n",
    "plt.barh(x, y, label=\"Bitline current\")\n",
    "\n",
    "y = result['word_current']\n",
    "x = list(map(lambda a: f\"word{a}\", range(len(y))))\n",
    "plt.barh(x, y, label=\"Wordline current\")\n",
    "\n",
    "plt.title('Figure')\n",
    "plt.xlabel('Current (A)')\n",
    "plt.ylabel('Line')\n",
    "plt.ion()\n",
    "plt.show()"
   ]
  },
  {
   "cell_type": "markdown",
   "metadata": {},
   "source": [
    "### Verify Calculation"
   ]
  },
  {
   "cell_type": "code",
   "execution_count": null,
   "metadata": {},
   "outputs": [],
   "source": [
    "import numpy as np\n",
    "np.matmul(io['WORD'], io['G'])"
   ]
  },
  {
   "cell_type": "markdown",
   "metadata": {},
   "source": [
    "### The End"
   ]
  },
  {
   "cell_type": "markdown",
   "metadata": {},
   "source": [
    "Clean up temporary files"
   ]
  },
  {
   "cell_type": "code",
   "execution_count": null,
   "metadata": {},
   "outputs": [],
   "source": [
    "!rm *_tmp*\n",
    "!rm *.log\n",
    "!rm *.net*"
   ]
  }
 ],
 "metadata": {
  "kernelspec": {
   "display_name": "Python 3.10.4 64-bit",
   "language": "python",
   "name": "python3"
  },
  "language_info": {
   "codemirror_mode": {
    "name": "ipython",
    "version": 3
   },
   "file_extension": ".py",
   "mimetype": "text/x-python",
   "name": "python",
   "nbconvert_exporter": "python",
   "pygments_lexer": "ipython3",
   "version": "3.10.4"
  },
  "orig_nbformat": 4,
  "vscode": {
   "interpreter": {
    "hash": "31f2aee4e71d21fbe5cf8b01ff0e069b9275f58929596ceb00d14d90e3e16cd6"
   }
  }
 },
 "nbformat": 4,
 "nbformat_minor": 2
}
