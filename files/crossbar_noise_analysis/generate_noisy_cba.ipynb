{
 "cells": [
  {
   "cell_type": "markdown",
   "metadata": {},
   "source": [
    "### <mark>Setup paths</mark>"
   ]
  },
  {
   "attachments": {},
   "cell_type": "markdown",
   "metadata": {},
   "source": [
    "Launch ltspice docker\n",
    "- cd ltspice_docker\n",
    "- ./start.sh"
   ]
  },
  {
   "cell_type": "code",
   "execution_count": 1,
   "metadata": {},
   "outputs": [],
   "source": [
    "# Add folder containing scripts to the path\n",
    "import sys\n",
    "sys.path.append('../') ## Change accordingly\n",
    "\n",
    "# Command to execute LTSpice launch\n",
    "LTSPICE_INSTANCE = \"../../ltspice.sh\" ## Change accordingly\n",
    "HSPICE_INSTANCE = \"../../hspice.sh\" ## Change accordingly"
   ]
  },
  {
   "cell_type": "code",
   "execution_count": 2,
   "metadata": {},
   "outputs": [
    {
     "name": "stdout",
     "output_type": "stream",
     "text": [
      "CURRENT_FOLDER: files/crossbar_noise_analysis\n"
     ]
    }
   ],
   "source": [
    "# Store relative path from ltspice docker to current directory\n",
    "import os\n",
    "from pathlib import Path\n",
    "\n",
    "ltspice_absolute = os.path.realpath(LTSPICE_INSTANCE)\n",
    "ltspice_dir = os.path.dirname(ltspice_absolute)\n",
    "notebook_dir = os.getcwd()\n",
    "\n",
    "CURRENT_FOLDER = Path(notebook_dir).relative_to(ltspice_dir)\n",
    "print(\"CURRENT_FOLDER:\", CURRENT_FOLDER)\n",
    "\n",
    "# Reload libraries automatically if is being changed on the fly\n",
    "%load_ext autoreload\n",
    "%autoreload 2"
   ]
  },
  {
   "cell_type": "markdown",
   "metadata": {},
   "source": [
    "### <mark>Runtime parameters</mark>\n"
   ]
  },
  {
   "cell_type": "code",
   "execution_count": 11,
   "metadata": {},
   "outputs": [
    {
     "name": "stdout",
     "output_type": "stream",
     "text": [
      "['/usr/lib/python3/dist-packages/ipykernel_launcher.py', '-f', '/home/zst/.local/share/jupyter/runtime/kernel-9c9fe50b-63bb-41a5-99b6-3e9982c0627f.json']\n",
      "Counter: 3\n",
      "Selecting CBA size: (12, 1)\n"
     ]
    }
   ],
   "source": [
    "# Support cba_size specified in command line\n",
    "import argparse\n",
    "parser = argparse.ArgumentParser()\n",
    "parser.add_argument('--cba_size', type=int, required=False)\n",
    "parser.add_argument('--mc', type=str, default='0.22361') # Tolerance of 0.05 (5%) variance\n",
    "args, extra = parser.parse_known_args()\n",
    "\n",
    "print(\"Using monte carlo variance:\", args.mc)\n",
    "\n",
    "if hasattr(args, 'cba_size'):\n",
    "    # If specified in command line, then use it instead\n",
    "    cba_size = (args.cba_size, 1)\n",
    "    print(\"Specified CBA size:\", cba_size)\n",
    "else:\n",
    "    # Logic to choose counter\n",
    "    try:\n",
    "        run_all_counter += 1\n",
    "    except NameError:\n",
    "        run_all_counter = 0\n",
    "    print(\"Counter:\", run_all_counter)\n",
    "\n",
    "    # Select size of CBA based on counter\n",
    "    my_sizes = [2, 4, 8, 12, 16, 24, 32, 48, 64, 80, 96, 128, 256, 384, 512, 768, 960,]\n",
    "    cba_size = (my_sizes[run_all_counter], 1)\n",
    "    print(\"Selecting CBA size:\", cba_size)\n",
    "\n",
    "# Iterate less as the size of CBA goes up\n",
    "iterations = 128 #max(1, 1024 // my_sizes[run_all_counter])\n",
    "\n",
    "# Time for script to run\n",
    "import time\n",
    "script_start_time = time.time()"
   ]
  },
  {
   "cell_type": "code",
   "execution_count": 4,
   "metadata": {},
   "outputs": [],
   "source": [
    "CELL_PARAMETERS = {\n",
    "    'states':    [100000, 10000], # Order from HRS to LRS\n",
    "    'filename':  'cell_subcircuit',\n",
    "    'tolerance': args.mc, # Tolerance of 0.05 (5%) variance\n",
    "}\n",
    "\n",
    "CBA1_PARAMETERS = {\n",
    "    'wordline':  cba_size[0], # inputs\n",
    "    'bitline':   cba_size[1], # outputs\n",
    "    'filename':  'cba1_subcircuit',\n",
    "    'cell': CELL_PARAMETERS['filename'],\n",
    "}\n",
    "\n",
    "WRAPPER_PARAMETERS = {\n",
    "    'wordline':  CBA1_PARAMETERS['wordline'], # input\n",
    "    'bitline':   CBA1_PARAMETERS['bitline'], # output\n",
    "    'filename':  'noisy_cba_subcircuit',\n",
    "}\n",
    "\n",
    "SIM_PARAMETERS = {\n",
    "    'exe':       LTSPICE_INSTANCE,\n",
    "    'dir':       CURRENT_FOLDER,\n",
    "    'spice':     'ltspice', # or hspice\n",
    "}\n"
   ]
  },
  {
   "cell_type": "markdown",
   "metadata": {},
   "source": [
    "### <mark>Generate subcircuits</mark>"
   ]
  },
  {
   "cell_type": "code",
   "execution_count": 5,
   "metadata": {},
   "outputs": [],
   "source": [
    "import generator as gen\n",
    "import simulator as sim\n",
    "\n",
    "def copy_ltspice_template(thesrcfile, thedestfile):\n",
    "    !cp {thesrcfile}.asc {thedestfile}.asc\n",
    "    !cp {thesrcfile}.asy {thedestfile}.asy\n",
    "\n",
    "# Cell\n",
    "gen.generate_cell(resistance_states=CELL_PARAMETERS['states'],\n",
    "                  cell_subcircuit=CELL_PARAMETERS['filename'])\n",
    "\n",
    "# Modify cell to add Monte Carlo tolerances\n",
    "with open(CELL_PARAMETERS['filename'] + '.asc', \"r\") as f:\n",
    "    contents = f.read()\n",
    "\n",
    "with open(CELL_PARAMETERS['filename'] + '.asc', \"w\") as f:\n",
    "    contents = contents.replace(\"{resistance}\",\n",
    "       \"{mc(resistance, tol)}\".replace('tol', str(CELL_PARAMETERS['tolerance'])), 1)\n",
    "    f.write(contents)\n",
    "\n",
    "# CBA1\n",
    "gen.generate_cba(wordline=CBA1_PARAMETERS['wordline'],\n",
    "                 bitline=CBA1_PARAMETERS['bitline'],\n",
    "                 filename=CBA1_PARAMETERS['filename'],\n",
    "                 cell_subcircuit=CBA1_PARAMETERS['cell'])\n",
    "\n",
    "# Simulation parameters\n",
    "sim.set_ltspice(exe=LTSPICE_INSTANCE, dir=CURRENT_FOLDER)"
   ]
  },
  {
   "cell_type": "code",
   "execution_count": 6,
   "metadata": {},
   "outputs": [],
   "source": [
    "thefile = str(CURRENT_FOLDER) + '/' + CELL_PARAMETERS['filename'] + '.asc'\n",
    "#!$LTSPICE_INSTANCE $thefile"
   ]
  },
  {
   "cell_type": "code",
   "execution_count": 7,
   "metadata": {},
   "outputs": [],
   "source": [
    "thefile = str(CURRENT_FOLDER) + '/' + CBA1_PARAMETERS['filename'] + '.asc'\n",
    "#!$LTSPICE_INSTANCE $thefile"
   ]
  },
  {
   "cell_type": "markdown",
   "metadata": {},
   "source": [
    "### <mark>Generate wrapper</mark>\n"
   ]
  },
  {
   "cell_type": "code",
   "execution_count": 8,
   "metadata": {},
   "outputs": [],
   "source": [
    "#iterations = 50\n",
    "def generate_feedforward_circuit():\n",
    "    # Header\n",
    "    entries = []\n",
    "    entries.clear()\n",
    "    entries.append(\"Version 4\")\n",
    "    entries.append(\"SHEET 1 880 680\")\n",
    "    entries.append(\"TEXT 64 -96 LEFT 2 !.tran 0m 1m 0m\")\n",
    "    text = f\"Generated on {gen.getdate()}\"\n",
    "    entries.append(f\"TEXT 64 -128 Left 2 ;{text}\")\n",
    "\n",
    "    entries.append(f\"TEXT 64 -64 Left 2 !.step param N 1 {iterations} 1\")\n",
    "\n",
    "    def add_flag(name, x, y):\n",
    "        entries.append(f\"FLAG {int(x)} {int(y)} {name}\")\n",
    "        entries.append(f\"IOPIN {int(x)} {int(y)} BiDir\")\n",
    "\n",
    "    def add_voltage_with_gnd(name, value, x, y):\n",
    "        entries.append(f\"SYMBOL voltage {int(x)} {int(y)} R0\")\n",
    "        entries.append(f\"WINDOW 0 24 16 Left 0\")  # Smaller InstName text\n",
    "        entries.append(f\"WINDOW 3 24 96 Left 0\")  # Smaller Value text\n",
    "        entries.append(f\"SYMATTR InstName V.{name}\")\n",
    "        entries.append(f\"SYMATTR Value {value}\")\n",
    "        entries.append(f\"FLAG {int(x)} {int(y+16)} {name}\")\n",
    "        entries.append(f\"IOPIN {int(x)} {int(y+16)} BiDir\")\n",
    "        entries.append(f\"FLAG {int(x)} {int(y+96)} 0\")\n",
    "\n",
    "    def add_crossbar_with_labels(instname, cba_params, x, y, wordline_labels, bitline_labels):\n",
    "        GRID_X = 16*2\n",
    "        GRID_Y = 16*2\n",
    "        OFFSET_X = -1*16*5\n",
    "        OFFSET_Y = +1*16*5\n",
    "        filename = cba_params['filename']\n",
    "        entries.append(f\"SYMBOL {filename} {x} {y} R0\")\n",
    "        entries.append(f\"SYMATTR InstName {instname}\")\n",
    "        entries.append(f\"SYMATTR SpiceLine <{instname}_PARAMS>\")\n",
    "\n",
    "        for c in range(cba_params['bitline']):\n",
    "            label = bitline_labels[c]\n",
    "            add_flag(label, x=x+c*GRID_X, y=y+OFFSET_Y)\n",
    "\n",
    "        for r in range(cba_params['wordline']):\n",
    "            label = wordline_labels[r]\n",
    "            add_flag(label, x=x+OFFSET_X, y=y+(-r*GRID_Y))\n",
    "\n",
    "    def add_neuron_with_labels(instname, neuron_params, x, y, sig_in, out_pos, out_neg):\n",
    "        filename = neuron_params['filename']\n",
    "        entries.append(f\"SYMBOL {filename} {x} {y} R0\")\n",
    "        entries.append(f\"SYMATTR InstName {instname}\")\n",
    "        add_flag(name=sig_in,  x=x+0, y=y+0)\n",
    "        add_flag(name=out_pos, x=x+0, y=y+32)\n",
    "        add_flag(name=out_neg, x=x+0, y=y+64)\n",
    "\n",
    "    # Input voltage sources\n",
    "    GRID_V = 16*6\n",
    "    for i in range(CBA1_PARAMETERS['wordline']):\n",
    "        label = f\"WORD1.p{i}\"\n",
    "        value = f\"<INPUT.p{i}>\"\n",
    "        add_voltage_with_gnd(name=label, value=value,\n",
    "                             x=i*GRID_V, y=-600)\n",
    "        # label = f\"WORD1.n{i}\"\n",
    "        # value = f\"<INPUT.n{i}>\"\n",
    "        # add_voltage_with_gnd(name=label, value=value,\n",
    "        #                      x=i*GRID_V, y=-300)\n",
    "    \n",
    "    for i in range(CBA1_PARAMETERS['bitline']):\n",
    "        label = f\"BIT1.{i}\"\n",
    "        value = f\"<OUTPUT.{i}>\"\n",
    "        add_voltage_with_gnd(name=label, value=value,\n",
    "                             x=i*GRID_V, y=-900)\n",
    "\n",
    "    # Dual CBA1\n",
    "    CBA1_YREF = 0 + CBA1_PARAMETERS['wordline'] * (16*2) # vertical\n",
    "    CBA1_XREF = 400 + CBA1_PARAMETERS['bitline'] * (16*2) # horizontal\n",
    "    add_crossbar_with_labels(\"CBA1.p\", CBA1_PARAMETERS, 0, CBA1_YREF, \n",
    "        wordline_labels = [f\"WORD1.p{i}\" for i in range(CBA1_PARAMETERS['wordline'])],\n",
    "        bitline_labels = [f\"BIT1.{i}\" for i in range(CBA1_PARAMETERS['bitline'])]\n",
    "    )\n",
    "    # add_crossbar_with_labels(\"CBA1.n\", CBA1_PARAMETERS, CBA1_XREF, CBA1_YREF, \n",
    "    #     wordline_labels = [f\"WORD1.n{i}\" for i in range(CBA1_PARAMETERS['wordline'])],\n",
    "    #     bitline_labels = [f\"BIT1.{i}\" for i in range(CBA1_PARAMETERS['bitline'])]\n",
    "    # )\n",
    "\n",
    "    # Write to file\n",
    "    with open(WRAPPER_PARAMETERS['filename'] + '.asc', \"w\") as f:\n",
    "        content = '\\n'.join(entries)\n",
    "        f.write(content)\n",
    "\n",
    "generate_feedforward_circuit()"
   ]
  },
  {
   "cell_type": "code",
   "execution_count": 9,
   "metadata": {},
   "outputs": [],
   "source": [
    "# Preview wrapper\n",
    "thefile = str(CURRENT_FOLDER) + '/' + WRAPPER_PARAMETERS['filename'] + '.asc'\n",
    "#!$LTSPICE_INSTANCE $thefile"
   ]
  },
  {
   "cell_type": "markdown",
   "metadata": {},
   "source": [
    "### <mark>Convert to netlists</mark>\n"
   ]
  },
  {
   "cell_type": "code",
   "execution_count": 10,
   "metadata": {},
   "outputs": [
    {
     "name": "stderr",
     "output_type": "stream",
     "text": [
      "009e:err:menubuilder:Process_Link unable to load L\"C:\\\\users\\\\appuser\\\\Recent\\\\neuron_tanh_compare_matching2.asc.lnk\"\n",
      "009e:err:menubuilder:wWinMain failed to build menu item for L\"C:\\\\users\\\\appuser\\\\Recent\\\\neuron_tanh_compare_matching2.asc.lnk\"\n",
      "01b6:err:menubuilder:Process_Link unable to load L\"C:\\\\users\\\\appuser\\\\Recent\\\\neuron_tanh_distribution.asc.lnk\"\n",
      "01b6:err:menubuilder:wWinMain failed to build menu item for L\"C:\\\\users\\\\appuser\\\\Recent\\\\neuron_tanh_distribution.asc.lnk\"\n"
     ]
    },
    {
     "name": "stdout",
     "output_type": "stream",
     "text": [
      "noisy_cba_subcircuit.hspice.net  noisy_cba_subcircuit_tmp8.net\n",
      "noisy_cba_subcircuit.net\n"
     ]
    }
   ],
   "source": [
    "sim.convert_ltspice_sch_to_netlist(filename=WRAPPER_PARAMETERS['filename'])\n",
    "# !ls *.net"
   ]
  },
  {
   "cell_type": "markdown",
   "metadata": {},
   "source": [
    "### <mark>Simulate</mark>\n"
   ]
  },
  {
   "cell_type": "code",
   "execution_count": 11,
   "metadata": {},
   "outputs": [],
   "source": [
    "# Override functions in the abstraction layer to handle two CBAs\n",
    "import ltspice # pip3 install ltspice\n",
    "import numpy as np\n",
    "\n",
    "def my_handle_param_sub(content, _wl_, _bl_, io):\n",
    "    print(\"[my_handle_param_sub]\")\n",
    "\n",
    "    # Inputs\n",
    "    for i, value in enumerate(io['INPUT.p']):\n",
    "        content = content.replace(f\"<INPUT.p{i}>\", str(value))\n",
    "\n",
    "    for i, value in enumerate(io['INPUT.n']):\n",
    "        content = content.replace(f\"<INPUT.n{i}>\", str(value))\n",
    "\n",
    "    for i, value in enumerate(io['OUTPUT.']):\n",
    "        content = content.replace(f\"<OUTPUT.{i}>\", str(value))\n",
    "\n",
    "    # CBA weights helper\n",
    "    def create_cba_param(io_g_item):\n",
    "        cba_params = []\n",
    "        for r in range(len(io_g_item)):\n",
    "            for c in range(len(io_g_item[r])):\n",
    "                label = f\"G{r}.{c}\"\n",
    "                value = str(int(io_g_item[r][c]))\n",
    "                cba_params.append(f\"{label}={value}\")\n",
    "        return \" \".join(cba_params)\n",
    "\n",
    "    # CBA1\n",
    "    content = content.replace(\"<CBA1.p_PARAMS>\", create_cba_param(io['CBA1.p']))\n",
    "    content = content.replace(\"<CBA1.n_PARAMS>\", create_cba_param(io['CBA1.n']))\n",
    "\n",
    "    return content\n",
    "\n",
    "def my_handle_result_sub(_wl_, _bl_, get_data):\n",
    "    labels = []\n",
    "    # After CBA1\n",
    "    labels += [f'I(V.BIT1.{i})' for i in range(CBA1_PARAMETERS['bitline'])]\n",
    "\n",
    "    # LTspice parser\n",
    "    # Retrieve all repetitions of monte carlo runs\n",
    "    netlist = WRAPPER_PARAMETERS['filename']; tmp_id = 8\n",
    "    tmp_filename = f\"{netlist}_tmp{tmp_id}\"\n",
    "    l = ltspice.Ltspice(tmp_filename + '.raw')\n",
    "    l.parse()\n",
    "    def _custom_get_data(label):\n",
    "        list_of_cases = []\n",
    "        for i in range(iterations):\n",
    "            datapoint = l.get_data(label, case=i)[-1]\n",
    "            list_of_cases.append(datapoint)\n",
    "        return list_of_cases\n",
    "        \n",
    "    # Results\n",
    "    result = {}\n",
    "    for label in labels:\n",
    "        data = _custom_get_data(label)\n",
    "        result[label] = (data)\n",
    "        #print(label, data)\n",
    "        # if data is None: # Store latest only\n",
    "        #     result[label] = (data)\n",
    "        # else:\n",
    "        #     result[label] = (data[-1])\n",
    "\n",
    "    return {\n",
    "        'output_voltage': result,\n",
    "    }\n",
    "\n",
    "sim.handle_param_sub = my_handle_param_sub\n",
    "sim.handle_result_sub = my_handle_result_sub"
   ]
  },
  {
   "cell_type": "code",
   "execution_count": 12,
   "metadata": {},
   "outputs": [
    {
     "name": "stdout",
     "output_type": "stream",
     "text": [
      "[my_handle_param_sub]\n"
     ]
    },
    {
     "name": "stderr",
     "output_type": "stream",
     "text": [
      "0099:err:menubuilder:Process_Link unable to load L\"C:\\\\users\\\\appuser\\\\Recent\\\\neuron_tanh_compare_matching2.asc.lnk\"\n",
      "0099:err:menubuilder:wWinMain failed to build menu item for L\"C:\\\\users\\\\appuser\\\\Recent\\\\neuron_tanh_compare_matching2.asc.lnk\"\n",
      "01c8:err:menubuilder:Process_Link unable to load L\"C:\\\\users\\\\appuser\\\\Recent\\\\neuron_tanh_distribution.asc.lnk\"\n",
      "01c8:err:menubuilder:wWinMain failed to build menu item for L\"C:\\\\users\\\\appuser\\\\Recent\\\\neuron_tanh_distribution.asc.lnk\"\n"
     ]
    },
    {
     "name": "stdout",
     "output_type": "stream",
     "text": [
      "> Simulation done using ltspice\n",
      "> Parsing ltspice results\n",
      "[output_voltage]\n",
      "I(V.BIT1.0)\n"
     ]
    }
   ],
   "source": [
    "INPUT_vector = np.ones(CBA1_PARAMETERS['wordline'])\n",
    "CBA1_states = np.zeros((CBA1_PARAMETERS['wordline'], CBA1_PARAMETERS['bitline']))\n",
    "\n",
    "io = {\n",
    "    'INPUT.p': np.array(INPUT_vector)*+1,\n",
    "    'INPUT.n': [],\n",
    "    'OUTPUT.': [0]*CBA1_PARAMETERS['bitline'],\n",
    "    'CBA1.p': np.multiply(CBA1_states > 0, CBA1_states*+1),\n",
    "    'CBA1.n': np.multiply(CBA1_states < 0, CBA1_states*-1),\n",
    "}\n",
    "\n",
    "result = sim.simulate_netlist(\n",
    "    wordline=None, bitline=None, io=io,\n",
    "    netlist=WRAPPER_PARAMETERS['filename'],\n",
    "    tmp_id=8\n",
    ")\n",
    "\n",
    "print('[output_voltage]')\n",
    "for key, val in result['output_voltage'].items():\n",
    "    print(key)\n",
    "    #print(key, val)\n"
   ]
  },
  {
   "cell_type": "markdown",
   "metadata": {},
   "source": [
    "### <mark>Plot Graph</mark>\n"
   ]
  },
  {
   "cell_type": "code",
   "execution_count": 13,
   "metadata": {},
   "outputs": [],
   "source": [
    "%matplotlib inline\n",
    "#%config InlineBackend.figure_formats = ['svg']\n",
    "from scipy.stats import norm\n",
    "import matplotlib.pyplot as plt\n",
    "\n",
    "def plot_graph(data, id_name):\n",
    "    # Fit a normal distribution to the data:\n",
    "    mu, std = norm.fit(data)\n",
    "\n",
    "    # Plot the histogram.\n",
    "    plt.hist(data, bins=30, density=True, alpha=1.0, color='m')\n",
    "\n",
    "    # Plot the PDF.\n",
    "    xmin, xmax = plt.xlim()\n",
    "    x = np.linspace(xmin, xmax, 100)\n",
    "    p = norm.pdf(x, mu, std)\n",
    "    plt.plot(x, p, 'k', linewidth=2, label=\"Distribution\")\n",
    "    title = f\"CBA size: {id_name}\\n\"\n",
    "    title += \"Fit results: mu = %e,  std = %e\" % (mu, std)\n",
    "    plt.title(title)\n",
    "    # draw vertical line\n",
    "    plt.vlines(x=mu, ymin=0, ymax=max(p), colors='k')\n",
    "    plt.legend()\n",
    "    plt.savefig(f\"plot_{id_name}.png\")\n",
    "    plt.show()\n",
    "    \n",
    "    return (mu, std)\n"
   ]
  },
  {
   "cell_type": "code",
   "execution_count": 14,
   "metadata": {},
   "outputs": [
    {
     "data": {
      "image/png": "[encoded data removed]",
      "text/plain": [
       "<Figure size 432x288 with 1 Axes>"
      ]
     },
     "metadata": {
      "needs_background": "light"
     },
     "output_type": "display_data"
    },
    {
     "name": "stdout",
     "output_type": "stream",
     "text": [
      "CBA size: 960, Mean: 0.00975453108549118, SD: 4.221830749884248e-05, Time: 652.1794822216034, \n"
     ]
    }
   ],
   "source": [
    "# Flatten list of list into a single list\n",
    "mydata = sum(result['output_voltage'].values(), [])\n",
    "# Normalise to expected output\n",
    "mydata = list(map(lambda x: x, mydata))\n",
    "# Identifier\n",
    "cba_id = f\"{cba_size[0]}x{cba_size[0]}\"\n",
    "# Plot graph\n",
    "mu, std = plot_graph(mydata, cba_id)\n",
    "# Timer\n",
    "script_time_taken = time.time() - script_start_time\n",
    "# Write results\n",
    "output = f\"CBA size: {cba_size[0]}, \"\n",
    "output += f\"Mean: {mu}, \"\n",
    "output += f\"SD: {std}, \"\n",
    "output += f\"Time: {script_time_taken}, \"\n",
    "print(output)\n",
    "\n",
    "# Format: CBA size, Mean, SD, Time,\n",
    "output = f\"{cba_size[0]}, {mu}, {std}, {script_time_taken}, \"\n",
    "with open(\"cba_distribution_results.txt\", \"a\") as f:\n",
    "    f.write(output + '\\n')\n"
   ]
  },
  {
   "cell_type": "code",
   "execution_count": 15,
   "metadata": {},
   "outputs": [],
   "source": [
    "thefile = str(CURRENT_FOLDER) + '/' + WRAPPER_PARAMETERS['filename'] + '_tmp8.net'\n",
    "#!$LTSPICE_INSTANCE $thefile"
   ]
  },
  {
   "cell_type": "code",
   "execution_count": 16,
   "metadata": {},
   "outputs": [],
   "source": [
    "# Test parsing of LTspice data\n",
    "if False:\n",
    "    netlist = WRAPPER_PARAMETERS['filename']\n",
    "    tmp_id = 8\n",
    "    tmp_filename = f\"{netlist}_tmp{tmp_id}\"\n",
    "    l = ltspice.Ltspice(tmp_filename + '.raw')\n",
    "    l.parse()\n",
    "    def _custom_get_data(label):\n",
    "        for i in range(iterations):\n",
    "            print(\"_custom_get_data:\", label, l.get_data(label, case=i))\n",
    "        return l.get_data(label, case=0)\n",
    "\n",
    "    _custom_get_data(\"I(V.BIT1.0)\")"
   ]
  },
  {
   "attachments": {},
   "cell_type": "markdown",
   "metadata": {},
   "source": [
    "### <mark>Cleanup</mark>"
   ]
  },
  {
   "cell_type": "code",
   "execution_count": 17,
   "metadata": {},
   "outputs": [
    {
     "name": "stdout",
     "output_type": "stream",
     "text": [
      "mkdir: created directory 'delete_20230224_1057'\n",
      "mv: cannot stat '*.log': No such file or directory\n",
      "mv: cannot stat '*.plt': No such file or directory\n",
      "mv: cannot stat '*.raw': No such file or directory\n"
     ]
    }
   ],
   "source": [
    "# Create folder for deletion\n",
    "thedatetime =  __import__(\"datetime\").datetime.now().strftime(\"%Y%m%d_%H%M\")\n",
    "thefolder = \"delete_\" + thedatetime\n",
    "!mkdir -v -p {thefolder}\n",
    "\n",
    "def delete_helper(thefile, debug=False):\n",
    "    if not debug:\n",
    "        !mv {thefile} {thefolder}\n",
    "    else:\n",
    "        !ls {thefile}\n",
    "\n",
    "# Cell\n",
    "delete_helper(CELL_PARAMETERS['filename'] + \".asc\")\n",
    "delete_helper(CELL_PARAMETERS['filename'] + \".asy\")\n",
    "# CBA1\n",
    "delete_helper(CBA1_PARAMETERS['filename'] + \".asc\")\n",
    "delete_helper(CBA1_PARAMETERS['filename'] + \".asy\")\n",
    "# Wrapper\n",
    "delete_helper(WRAPPER_PARAMETERS['filename'] + \".asc\")\n",
    "# Simulation temporary files\n",
    "delete_helper(\"*_tmp*\")\n",
    "delete_helper(\"*.net*\")\n",
    "# LTSpice temporary files\n",
    "delete_helper(\"*.log *.plt *.raw\")\n"
   ]
  },
  {
   "attachments": {},
   "cell_type": "markdown",
   "metadata": {},
   "source": [
    "The End"
   ]
  }
 ],
 "metadata": {
  "kernelspec": {
   "display_name": "Python 3.10.4 64-bit",
   "language": "python",
   "name": "python3"
  },
  "language_info": {
   "codemirror_mode": {
    "name": "ipython",
    "version": 3
   },
   "file_extension": ".py",
   "mimetype": "text/x-python",
   "name": "python",
   "nbconvert_exporter": "python",
   "pygments_lexer": "ipython3",
   "version": "3.10.6 (main, Nov 14 2022, 16:10:14) [GCC 11.3.0]"
  },
  "orig_nbformat": 4,
  "vscode": {
   "interpreter": {
    "hash": "916dbcbb3f70747c44a77c7bcd40155683ae19c65e1c03b4aa3499c5328201f1"
   }
  }
 },
 "nbformat": 4,
 "nbformat_minor": 2
}
