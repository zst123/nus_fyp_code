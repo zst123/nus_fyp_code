{
 "cells": [
  {
   "attachments": {},
   "cell_type": "markdown",
   "metadata": {},
   "source": [
    "Fit a normal curve onto a sample data\n",
    "- https://stackoverflow.com/questions/20011122/fitting-a-normal-distribution-to-1d-data"
   ]
  },
  {
   "cell_type": "code",
   "execution_count": 181,
   "metadata": {},
   "outputs": [
    {
     "name": "stdout",
     "output_type": "stream",
     "text": [
      "1542 0.9525139\n"
     ]
    }
   ],
   "source": [
    "myvoltage = \"1.0\"\n",
    "filename = f\"simulation_{myvoltage}V.txt\" \n",
    "with open(\"./neuron_tanh_distribution/\" + filename) as f:\n",
    "    contents = f.read()\n",
    "\n",
    "data = []\n",
    "\n",
    "for line in contents.splitlines()[1:]:\n",
    "    items = line.split('\\t')\n",
    "    if len(items) >= 2:\n",
    "        data.append(items[-1])\n",
    "\n",
    "data = list(map(float, data))\n",
    "\n",
    "mode = max(set(data), key=data.count)\n",
    "for d in data[:]:\n",
    "    if d < mode:\n",
    "        newitem = mode + abs(mode-d)\n",
    "        data.append(newitem)\n",
    "        pass\n",
    "\n",
    "data = list(map(abs, data))\n",
    "data = list(map(lambda x: x/float(myvoltage), data))\n",
    "\n",
    "\n",
    "# Test random variable distribution\n",
    "#data = norm.rvs(1.00207e-03, 0.27, size=500, random_state=1238)\n",
    "print(len(data), mode)"
   ]
  },
  {
   "cell_type": "code",
   "execution_count": 184,
   "metadata": {},
   "outputs": [
    {
     "data": {
      "image/png": "[encoded data removed]",
      "text/plain": [
       "<Figure size 432x288 with 1 Axes>"
      ]
     },
     "metadata": {
      "needs_background": "light"
     },
     "output_type": "display_data"
    }
   ],
   "source": [
    "import numpy as np\n",
    "from scipy.stats import norm\n",
    "import matplotlib.pyplot as plt\n",
    "\n",
    "# Fit a normal distribution to the data:\n",
    "mu, std = norm.fit(data)\n",
    "\n",
    "# Plot the histogram.\n",
    "plt.hist(data, bins=30, density=True, alpha=1.0, color='g')\n",
    "\n",
    "# Plot the PDF.\n",
    "xmin, xmax = plt.xlim()\n",
    "x = np.linspace(xmin, xmax, 100)\n",
    "p = norm.pdf(x, mu, std)\n",
    "plt.plot(x, p, 'k', linewidth=2, label=\"Distribution\")\n",
    "title = f\"Input voltage: {filename}\\n\"\n",
    "title += \"Fit results: mu = %e,  std = %e\" % (mu, std)\n",
    "plt.title(title)\n",
    "\n",
    "# draw vertical line\n",
    "plt.vlines(x=mu, ymin=0, ymax=max(p), colors='k')\n",
    "#plt.vlines(x=1, ymin=0, ymax=1.8, colors='red', linestyles=\"dashed\", label=\"Ideal Mean\")\n",
    "\n",
    "plt.legend()\n",
    "plt.savefig(f\"plot_{myvoltage}V.png\")\n",
    "plt.show()"
   ]
  },
  {
   "cell_type": "code",
   "execution_count": 183,
   "metadata": {},
   "outputs": [
    {
     "name": "stdout",
     "output_type": "stream",
     "text": [
      "Filename: simulation_1.0V.txt, Mean: 0.9525653207522699, SD: 0.040478397569126495, \n"
     ]
    }
   ],
   "source": [
    "output = f\"Filename: {filename}, \"\n",
    "output += f\"Mean: {mu}, \"\n",
    "output += f\"SD: {std}, \"\n",
    "print(output)\n",
    "\n",
    "with open(\"neuron_tanh_distribution_result.txt\", \"a\") as f:\n",
    "    f.write(output + '\\n')\n"
   ]
  },
  {
   "cell_type": "code",
   "execution_count": null,
   "metadata": {},
   "outputs": [],
   "source": []
  }
 ],
 "metadata": {
  "kernelspec": {
   "display_name": "Python 3",
   "language": "python",
   "name": "python3"
  },
  "language_info": {
   "codemirror_mode": {
    "name": "ipython",
    "version": 3
   },
   "file_extension": ".py",
   "mimetype": "text/x-python",
   "name": "python",
   "nbconvert_exporter": "python",
   "pygments_lexer": "ipython3",
   "version": "3.10.6 (main, Nov 14 2022, 16:10:14) [GCC 11.3.0]"
  },
  "orig_nbformat": 4,
  "vscode": {
   "interpreter": {
    "hash": "916dbcbb3f70747c44a77c7bcd40155683ae19c65e1c03b4aa3499c5328201f1"
   }
  }
 },
 "nbformat": 4,
 "nbformat_minor": 2
}
