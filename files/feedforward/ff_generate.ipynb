{
 "cells": [
  {
   "cell_type": "markdown",
   "metadata": {},
   "source": [
    "### <mark>Setup paths</mark>"
   ]
  },
  {
   "attachments": {},
   "cell_type": "markdown",
   "metadata": {},
   "source": [
    "Launch ltspice docker\n",
    "- cd ltspice_docker\n",
    "- ./start.sh"
   ]
  },
  {
   "cell_type": "code",
   "execution_count": 7,
   "metadata": {},
   "outputs": [],
   "source": [
    "# Add folder containing scripts to the path\n",
    "import sys\n",
    "sys.path.append('../') ## Change accordingly\n",
    "\n",
    "# Command to execute LTSpice launch\n",
    "LTSPICE_INSTANCE = \"../../ltspice.sh\" ## Change accordingly\n",
    "HSPICE_INSTANCE = \"../../hspice.sh\" ## Change accordingly"
   ]
  },
  {
   "cell_type": "code",
   "execution_count": 8,
   "metadata": {},
   "outputs": [
    {
     "name": "stdout",
     "output_type": "stream",
     "text": [
      "CURRENT_FOLDER: files/feedforward\n",
      "The autoreload extension is already loaded. To reload it, use:\n",
      "  %reload_ext autoreload\n"
     ]
    }
   ],
   "source": [
    "# Store relative path from ltspice docker to current directory\n",
    "import os\n",
    "from pathlib import Path\n",
    "\n",
    "ltspice_absolute = os.path.realpath(LTSPICE_INSTANCE)\n",
    "ltspice_dir = os.path.dirname(ltspice_absolute)\n",
    "notebook_dir = os.getcwd()\n",
    "\n",
    "CURRENT_FOLDER = Path(notebook_dir).relative_to(ltspice_dir)\n",
    "print(\"CURRENT_FOLDER:\", CURRENT_FOLDER)\n",
    "\n",
    "# Reload libraries automatically if is being changed on the fly\n",
    "%load_ext autoreload\n",
    "%autoreload 2"
   ]
  },
  {
   "cell_type": "markdown",
   "metadata": {},
   "source": [
    "### <mark>Runtime parameters</mark>\n"
   ]
  },
  {
   "cell_type": "code",
   "execution_count": 9,
   "metadata": {},
   "outputs": [
    {
     "name": "stdout",
     "output_type": "stream",
     "text": [
      "0038:err:menubuilder:Process_Link unable to load L\"C:\\\\users\\\\appuser\\\\Recent\\\\mnist_accelerator_subcircuit.asc.lnk\"\n",
      "0038:err:menubuilder:wWinMain failed to build menu item for L\"C:\\\\users\\\\appuser\\\\Recent\\\\mnist_accelerator_subcircuit.asc.lnk\"\n",
      "003a:err:menubuilder:Process_Link unable to load L\"C:\\\\users\\\\appuser\\\\Recent\\\\mnist_accelerator_subcircuit.net.lnk\"\n",
      "003a:err:menubuilder:wWinMain failed to build menu item for L\"C:\\\\users\\\\appuser\\\\Recent\\\\mnist_accelerator_subcircuit.net.lnk\"\n"
     ]
    }
   ],
   "source": [
    "# Set R1 (middle) and R3 (right) to be 10x of memristor LRS (due to Kp ration)\n",
    "thefile = str(CURRENT_FOLDER) + '/template/neuron_tanh_template.asc'\n",
    "!$LTSPICE_INSTANCE $thefile"
   ]
  },
  {
   "cell_type": "code",
   "execution_count": 10,
   "metadata": {},
   "outputs": [],
   "source": [
    "nn_layers = (4, 2, 3)\n",
    "#nn_layers = (100, 50, 10)\n",
    "\n",
    "CELL_PARAMETERS = {\n",
    "    'states':    [100000, 10000], # Order from HRS to LRS\n",
    "    'filename':  'cell_subcircuit',\n",
    "    'tolerance': '0.05', # Tolerance of 5%\n",
    "}\n",
    "\n",
    "CBA1_PARAMETERS = {\n",
    "    'wordline':  nn_layers[0], # inputs\n",
    "    'bitline':   nn_layers[1], # outputs\n",
    "    'filename':  'cba1_subcircuit',\n",
    "    'cell': CELL_PARAMETERS['filename'],\n",
    "}\n",
    "\n",
    "CBA2_PARAMETERS = {\n",
    "    'wordline':  nn_layers[1], # inputs\n",
    "    'bitline':   nn_layers[2], # outputs\n",
    "    'filename':  'cba2_subcircuit',\n",
    "    'cell': CELL_PARAMETERS['filename'],\n",
    "}\n",
    "\n",
    "NEURON1_PARAMETERS = {\n",
    "    'template':  './template/neuron_tanh_template',\n",
    "    'filename':  'neuron1_subcircuit',\n",
    "}\n",
    "\n",
    "NEURON2_PARAMETERS = {\n",
    "    'template':  './template/neuron_tanh_template',\n",
    "    'filename':  'neuron2_subcircuit',\n",
    "}\n",
    "\n",
    "WRAPPER_PARAMETERS = {\n",
    "    'wordline':  CBA1_PARAMETERS['wordline'], # input\n",
    "    'bitline':   CBA2_PARAMETERS['bitline'], # output\n",
    "    'filename':  'mnist_accelerator_subcircuit',\n",
    "}\n",
    "\n",
    "SIM_PARAMETERS = {\n",
    "    'exe':       LTSPICE_INSTANCE,\n",
    "    'dir':       CURRENT_FOLDER,\n",
    "    'spice':     'ltspice', # or hspice\n",
    "}\n",
    "\n",
    "assert (CBA1_PARAMETERS['bitline'] == CBA2_PARAMETERS['wordline'])\n"
   ]
  },
  {
   "cell_type": "markdown",
   "metadata": {},
   "source": [
    "### <mark>Generate subcircuits</mark>"
   ]
  },
  {
   "cell_type": "code",
   "execution_count": 11,
   "metadata": {},
   "outputs": [],
   "source": [
    "import generator as gen\n",
    "import simulator as sim\n",
    "\n",
    "def copy_ltspice_template(thesrcfile, thedestfile):\n",
    "    !cp {thesrcfile}.asc {thedestfile}.asc\n",
    "    !cp {thesrcfile}.asy {thedestfile}.asy\n",
    "\n",
    "# Cell\n",
    "gen.generate_cell(resistance_states=CELL_PARAMETERS['states'],\n",
    "                  cell_subcircuit=CELL_PARAMETERS['filename'])\n",
    "\n",
    "# Modify cell to add Monte Carlo tolerances\n",
    "# CELL_PARAMETERS['filename']\n",
    "\n",
    "# CBA1\n",
    "gen.generate_cba(wordline=CBA1_PARAMETERS['wordline'],\n",
    "                 bitline=CBA1_PARAMETERS['bitline'],\n",
    "                 filename=CBA1_PARAMETERS['filename'],\n",
    "                 cell_subcircuit=CBA1_PARAMETERS['cell'])\n",
    "\n",
    "# CBA2\n",
    "gen.generate_cba(wordline=CBA2_PARAMETERS['wordline'],\n",
    "                 bitline=CBA2_PARAMETERS['bitline'],\n",
    "                 filename=CBA2_PARAMETERS['filename'],\n",
    "                 cell_subcircuit=CBA2_PARAMETERS['cell'])\n",
    "\n",
    "# NEU1\n",
    "copy_ltspice_template(NEURON1_PARAMETERS['template'], NEURON1_PARAMETERS['filename'])\n",
    "# NEU2\n",
    "copy_ltspice_template(NEURON2_PARAMETERS['template'], NEURON2_PARAMETERS['filename'])\n",
    "\n",
    "# Simulation parameters\n",
    "sim.set_ltspice(exe=LTSPICE_INSTANCE, dir=CURRENT_FOLDER)"
   ]
  },
  {
   "cell_type": "code",
   "execution_count": 12,
   "metadata": {},
   "outputs": [
    {
     "name": "stdout",
     "output_type": "stream",
     "text": [
      "005b:err:menubuilder:Process_Link unable to load L\"C:\\\\users\\\\appuser\\\\Recent\\\\mnist_accelerator_subcircuit.asc.lnk\"\n",
      "005b:err:menubuilder:wWinMain failed to build menu item for L\"C:\\\\users\\\\appuser\\\\Recent\\\\mnist_accelerator_subcircuit.asc.lnk\"\n",
      "005d:err:menubuilder:Process_Link unable to load L\"C:\\\\users\\\\appuser\\\\Recent\\\\mnist_accelerator_subcircuit.net.lnk\"\n",
      "005d:err:menubuilder:wWinMain failed to build menu item for L\"C:\\\\users\\\\appuser\\\\Recent\\\\mnist_accelerator_subcircuit.net.lnk\"\n"
     ]
    }
   ],
   "source": [
    "# Preview\n",
    "thefile = str(CURRENT_FOLDER) + '/' + CBA1_PARAMETERS['filename'] + '.asc'\n",
    "thefile = str(CURRENT_FOLDER) + '/' + NEURON1_PARAMETERS['filename'] + '.asc'\n",
    "!$LTSPICE_INSTANCE $thefile"
   ]
  },
  {
   "cell_type": "markdown",
   "metadata": {},
   "source": [
    "### <mark>Generate wrapper</mark>\n"
   ]
  },
  {
   "cell_type": "code",
   "execution_count": 13,
   "metadata": {},
   "outputs": [],
   "source": [
    "def generate_feedforward_circuit():\n",
    "    # Header\n",
    "    entries = []\n",
    "    entries.clear()\n",
    "    entries.append(\"Version 4\")\n",
    "    entries.append(\"SHEET 1 880 680\")\n",
    "    entries.append(\"TEXT 64 -96 LEFT 2 !.tran 0m 1m 0m\")\n",
    "    text = f\"Generated on {gen.getdate()}\"\n",
    "    entries.append(f\"TEXT 64 -128 Left 2 ;{text}\")\n",
    "\n",
    "    def add_flag(name, x, y):\n",
    "        entries.append(f\"FLAG {int(x)} {int(y)} {name}\")\n",
    "        entries.append(f\"IOPIN {int(x)} {int(y)} BiDir\")\n",
    "\n",
    "    def add_voltage_with_gnd(name, value, x, y):\n",
    "        entries.append(f\"SYMBOL voltage {int(x)} {int(y)} R0\")\n",
    "        entries.append(f\"WINDOW 0 24 16 Left 0\")  # Smaller InstName text\n",
    "        entries.append(f\"WINDOW 3 24 96 Left 0\")  # Smaller Value text\n",
    "        entries.append(f\"SYMATTR InstName V.{name}\")\n",
    "        entries.append(f\"SYMATTR Value {value}\")\n",
    "        entries.append(f\"FLAG {int(x)} {int(y+16)} {name}\")\n",
    "        entries.append(f\"IOPIN {int(x)} {int(y+16)} BiDir\")\n",
    "        entries.append(f\"FLAG {int(x)} {int(y+96)} 0\")\n",
    "\n",
    "    def add_crossbar_with_labels(instname, cba_params, x, y, wordline_labels, bitline_labels):\n",
    "        GRID_X = 16*2\n",
    "        GRID_Y = 16*2\n",
    "        OFFSET_X = -1*16*5\n",
    "        OFFSET_Y = +1*16*5\n",
    "        filename = cba_params['filename']\n",
    "        entries.append(f\"SYMBOL {filename} {x} {y} R0\")\n",
    "        entries.append(f\"SYMATTR InstName {instname}\")\n",
    "        entries.append(f\"SYMATTR SpiceLine <{instname}_PARAMS>\")\n",
    "\n",
    "        for c in range(cba_params['bitline']):\n",
    "            label = bitline_labels[c]\n",
    "            add_flag(label, x=x+c*GRID_X, y=y+OFFSET_Y)\n",
    "\n",
    "        for r in range(cba_params['wordline']):\n",
    "            label = wordline_labels[r]\n",
    "            add_flag(label, x=x+OFFSET_X, y=y+(-r*GRID_Y))\n",
    "\n",
    "    def add_neuron_with_labels(instname, neuron_params, x, y, sig_in, out_pos, out_neg):\n",
    "        filename = neuron_params['filename']\n",
    "        entries.append(f\"SYMBOL {filename} {x} {y} R0\")\n",
    "        entries.append(f\"SYMATTR InstName {instname}\")\n",
    "        add_flag(name=sig_in,  x=x+0, y=y+0)\n",
    "        add_flag(name=out_pos, x=x+0, y=y+32)\n",
    "        add_flag(name=out_neg, x=x+0, y=y+64)\n",
    "\n",
    "    # Input voltage sources\n",
    "    GRID_V = 16*6\n",
    "    for i in range(CBA1_PARAMETERS['wordline']):\n",
    "        label = f\"WORD1.p{i}\"\n",
    "        value = f\"<INPUT.p{i}>\"\n",
    "        add_voltage_with_gnd(name=label, value=value,\n",
    "                             x=i*GRID_V, y=-600)\n",
    "        label = f\"WORD1.n{i}\"\n",
    "        value = f\"<INPUT.n{i}>\"\n",
    "        add_voltage_with_gnd(name=label, value=value,\n",
    "                             x=i*GRID_V, y=-300)\n",
    "\n",
    "    # Dual CBA1\n",
    "    CBA1_YREF = 0 + CBA1_PARAMETERS['wordline'] * (16*2) # vertical\n",
    "    CBA1_XREF = 400 + CBA1_PARAMETERS['bitline'] * (16*2) # horizontal\n",
    "    add_crossbar_with_labels(\"CBA1.p\", CBA1_PARAMETERS, 0, CBA1_YREF, \n",
    "        wordline_labels = [f\"WORD1.p{i}\" for i in range(CBA1_PARAMETERS['wordline'])],\n",
    "        bitline_labels = [f\"BIT1.{i}\" for i in range(CBA1_PARAMETERS['bitline'])]\n",
    "    )\n",
    "    add_crossbar_with_labels(\"CBA1.n\", CBA1_PARAMETERS, CBA1_XREF, CBA1_YREF, \n",
    "        wordline_labels = [f\"WORD1.n{i}\" for i in range(CBA1_PARAMETERS['wordline'])],\n",
    "        bitline_labels = [f\"BIT1.{i}\" for i in range(CBA1_PARAMETERS['bitline'])]\n",
    "    )\n",
    "\n",
    "    # Neuron after CBA1\n",
    "    NEU1_YREF = CBA1_YREF + 250\n",
    "    GRID_V = 16*18\n",
    "    sig_in_s = [f\"BIT1.{i}\" for i in range(CBA1_PARAMETERS['bitline'])]\n",
    "    out_pos_s = [f\"WORD2.p{i}\" for i in range(CBA2_PARAMETERS['wordline'])]\n",
    "    out_neg_s = [f\"WORD2.n{i}\" for i in range(CBA2_PARAMETERS['wordline'])]\n",
    "    for i in range(len(sig_in_s)):\n",
    "        add_neuron_with_labels(f\"NEU1.{i}\", NEURON1_PARAMETERS, i*GRID_V, NEU1_YREF,\n",
    "            sig_in=sig_in_s[i], out_pos=out_pos_s[i], out_neg=out_neg_s[i])\n",
    "\n",
    "    # Dual CBA2\n",
    "    CBA2_YREF = NEU1_YREF + 200 + CBA2_PARAMETERS['wordline'] * (16*2) # vertical\n",
    "    CBA2_XREF = 400 + CBA2_PARAMETERS['bitline'] * (16*2) # horizontal\n",
    "    add_crossbar_with_labels(\"CBA2.p\", CBA2_PARAMETERS, 0, CBA2_YREF, \n",
    "        wordline_labels = [f\"WORD2.p{i}\" for i in range(CBA2_PARAMETERS['wordline'])],\n",
    "        bitline_labels = [f\"BIT2.{i}\" for i in range(CBA2_PARAMETERS['bitline'])]\n",
    "    )\n",
    "    add_crossbar_with_labels(\"CBA2.n\", CBA2_PARAMETERS, CBA2_XREF, CBA2_YREF, \n",
    "        wordline_labels = [f\"WORD2.n{i}\" for i in range(CBA2_PARAMETERS['wordline'])],\n",
    "        bitline_labels = [f\"BIT2.{i}\" for i in range(CBA2_PARAMETERS['bitline'])]\n",
    "    )\n",
    "\n",
    "    # Neuron after CBA2\n",
    "    NEU2_YREF = CBA2_YREF + 250\n",
    "    GRID_V = 16*18\n",
    "    sig_in_s = [f\"BIT2.{i}\" for i in range(CBA2_PARAMETERS['bitline'])]\n",
    "    out_pos_s = [f\"OUTPUT.{i}\" for i in range(CBA2_PARAMETERS['bitline'])]\n",
    "    out_neg_s = [f\"IGNORE.{i}\" for i in range(CBA2_PARAMETERS['bitline'])]\n",
    "    for i in range(len(sig_in_s)):\n",
    "        add_neuron_with_labels(f\"NEU2.{i}\", NEURON2_PARAMETERS, i*GRID_V, NEU2_YREF,\n",
    "            sig_in=sig_in_s[i], out_pos=out_pos_s[i], out_neg=out_neg_s[i])\n",
    "\n",
    "    # Write to file\n",
    "    with open(WRAPPER_PARAMETERS['filename'] + '.asc', \"w\") as f:\n",
    "        content = '\\n'.join(entries)\n",
    "        f.write(content)\n",
    "\n",
    "generate_feedforward_circuit()"
   ]
  },
  {
   "cell_type": "code",
   "execution_count": 14,
   "metadata": {},
   "outputs": [
    {
     "name": "stdout",
     "output_type": "stream",
     "text": [
      "0083:err:menubuilder:Process_Link unable to load L\"C:\\\\users\\\\appuser\\\\Recent\\\\mnist_accelerator_subcircuit.asc.lnk\"\n",
      "0083:err:menubuilder:wWinMain failed to build menu item for L\"C:\\\\users\\\\appuser\\\\Recent\\\\mnist_accelerator_subcircuit.asc.lnk\"\n",
      "0085:err:menubuilder:Process_Link unable to load L\"C:\\\\users\\\\appuser\\\\Recent\\\\mnist_accelerator_subcircuit.net.lnk\"\n",
      "0085:err:menubuilder:wWinMain failed to build menu item for L\"C:\\\\users\\\\appuser\\\\Recent\\\\mnist_accelerator_subcircuit.net.lnk\"\n"
     ]
    }
   ],
   "source": [
    "# Preview wrapper\n",
    "thefile = str(CURRENT_FOLDER) + '/' + WRAPPER_PARAMETERS['filename'] + '.asc'\n",
    "!$LTSPICE_INSTANCE $thefile"
   ]
  },
  {
   "cell_type": "markdown",
   "metadata": {},
   "source": [
    "### <mark>Convert to netlists</mark>\n"
   ]
  },
  {
   "cell_type": "code",
   "execution_count": 15,
   "metadata": {},
   "outputs": [
    {
     "name": "stderr",
     "output_type": "stream",
     "text": [
      "00ab:err:menubuilder:Process_Link unable to load L\"C:\\\\users\\\\appuser\\\\Recent\\\\cell_subcircuit.asc.lnk\"\n",
      "00ab:err:menubuilder:wWinMain failed to build menu item for L\"C:\\\\users\\\\appuser\\\\Recent\\\\cell_subcircuit.asc.lnk\"\n",
      "00ad:err:menubuilder:Process_Link unable to load L\"C:\\\\users\\\\appuser\\\\Recent\\\\mnist_accelerator_subcircuit.net.lnk\"\n",
      "00ad:err:menubuilder:wWinMain failed to build menu item for L\"C:\\\\users\\\\appuser\\\\Recent\\\\mnist_accelerator_subcircuit.net.lnk\"\n"
     ]
    },
    {
     "name": "stdout",
     "output_type": "stream",
     "text": [
      "mnist_accelerator_subcircuit.hspice.net  mnist_accelerator_subcircuit.net\n"
     ]
    }
   ],
   "source": [
    "sim.convert_ltspice_sch_to_netlist(filename=WRAPPER_PARAMETERS['filename'])\n",
    "!ls *.net"
   ]
  },
  {
   "cell_type": "markdown",
   "metadata": {},
   "source": [
    "### <mark>Simulate</mark>\n"
   ]
  },
  {
   "cell_type": "code",
   "execution_count": 16,
   "metadata": {},
   "outputs": [],
   "source": [
    "# Override functions in the abstraction layer to handle two CBAs\n",
    "\n",
    "import numpy as np\n",
    "\n",
    "def my_handle_param_sub(content, _wl_, _bl_, io):\n",
    "    print(\"[my_handle_param_sub]\")\n",
    "\n",
    "    # Inputs\n",
    "    for i, value in enumerate(io['INPUT.p']):\n",
    "        content = content.replace(f\"<INPUT.p{i}>\", str(value))\n",
    "\n",
    "    for i, value in enumerate(io['INPUT.n']):\n",
    "        content = content.replace(f\"<INPUT.n{i}>\", str(value))\n",
    "\n",
    "    # CBA weights helper\n",
    "    def create_cba_param(io_g_item):\n",
    "        cba_params = []\n",
    "        for r in range(len(io_g_item)):\n",
    "            for c in range(len(io_g_item[r])):\n",
    "                label = f\"G{r}.{c}\"\n",
    "                value = str(int(io_g_item[r][c]))\n",
    "                cba_params.append(f\"{label}={value}\")\n",
    "        return \" \".join(cba_params)\n",
    "\n",
    "    # CBA1\n",
    "    content = content.replace(\"<CBA1.p_PARAMS>\", create_cba_param(io['CBA1.p']))\n",
    "    content = content.replace(\"<CBA1.n_PARAMS>\", create_cba_param(io['CBA1.n']))\n",
    "\n",
    "    # CBA2\n",
    "    content = content.replace(\"<CBA2.p_PARAMS>\", create_cba_param(io['CBA2.p']))\n",
    "    content = content.replace(\"<CBA2.n_PARAMS>\", create_cba_param(io['CBA2.n']))\n",
    "    return content\n",
    "\n",
    "def my_handle_result_sub(_wl_, _bl_, get_data):\n",
    "    labels = []\n",
    "    # After NEU1\n",
    "    labels += [f'V(WORD2.p{i})' for i in range(CBA2_PARAMETERS['wordline'])]\n",
    "    labels += [f'V(WORD2.n{i})' for i in range(CBA2_PARAMETERS['wordline'])]\n",
    "    # After NEU2\n",
    "    labels += [f'V(OUTPUT.{i})' for i in range(CBA2_PARAMETERS['bitline'])]\n",
    "\n",
    "    # Results\n",
    "    result = {}\n",
    "    for label in labels:\n",
    "        data = get_data(label)\n",
    "        if data is None: # Store latest only\n",
    "            result[label] = (data)\n",
    "        else:\n",
    "            result[label] = (data[-1])\n",
    "\n",
    "    return {\n",
    "        'output_voltage': result,\n",
    "    }\n",
    "\n",
    "sim.handle_param_sub = my_handle_param_sub\n",
    "sim.handle_result_sub = my_handle_result_sub"
   ]
  },
  {
   "cell_type": "code",
   "execution_count": 17,
   "metadata": {},
   "outputs": [
    {
     "name": "stdout",
     "output_type": "stream",
     "text": [
      "[my_handle_param_sub]\n"
     ]
    },
    {
     "name": "stderr",
     "output_type": "stream",
     "text": [
      "00f0:err:menubuilder:Process_Link unable to load L\"C:\\\\users\\\\appuser\\\\Recent\\\\cell_subcircuit.asc.lnk\"\n",
      "00f0:err:menubuilder:wWinMain failed to build menu item for L\"C:\\\\users\\\\appuser\\\\Recent\\\\cell_subcircuit.asc.lnk\"\n",
      "00c5:err:menubuilder:Process_Link unable to load L\"C:\\\\users\\\\appuser\\\\Recent\\\\mnist_accelerator_subcircuit.net.lnk\"\n",
      "00c5:err:menubuilder:wWinMain failed to build menu item for L\"C:\\\\users\\\\appuser\\\\Recent\\\\mnist_accelerator_subcircuit.net.lnk\"\n"
     ]
    },
    {
     "name": "stdout",
     "output_type": "stream",
     "text": [
      "> Simulation done using ltspice\n",
      "> Parsing ltspice results\n",
      "[output_voltage]\n",
      "V(WORD2.p0) 0.24260311\n",
      "V(WORD2.p1) 0.85339093\n",
      "V(WORD2.n0) -0.24366581\n",
      "V(WORD2.n1) -0.85532683\n",
      "V(OUTPUT.0) 0.93593353\n",
      "V(OUTPUT.1) -0.017039215\n",
      "V(OUTPUT.2) 0.19367847\n"
     ]
    }
   ],
   "source": [
    "INPUT_vector = [0.7,1.0,0,0]\n",
    "CBA1_states = np.array([\n",
    "    [-1, 0, ],\n",
    "    [1, 1, ],\n",
    "    [0, 0, ], \n",
    "    [0, 0, ], \n",
    "])\n",
    "\n",
    "CBA2_states = np.array([\n",
    "    [1, 0, 1],\n",
    "    [1, 0, 0],\n",
    "])\n",
    "\n",
    "io = {\n",
    "    'INPUT.p': np.array(INPUT_vector)*+1,\n",
    "    'INPUT.n': np.array(INPUT_vector)*-1,\n",
    "    'CBA1.p': np.multiply(CBA1_states > 0, CBA1_states*+1),\n",
    "    'CBA1.n': np.multiply(CBA1_states < 0, CBA1_states*-1),\n",
    "    'CBA2.p': np.multiply(CBA2_states > 0, CBA2_states*+1),\n",
    "    'CBA2.n': np.multiply(CBA2_states < 0, CBA2_states*-1),\n",
    "}\n",
    "\n",
    "result = sim.simulate_netlist(\n",
    "    wordline=None, bitline=None, io=io,\n",
    "    netlist=WRAPPER_PARAMETERS['filename'],\n",
    "    tmp_id=8\n",
    ")\n",
    "\n",
    "print('[output_voltage]')\n",
    "for key, val in result['output_voltage'].items():\n",
    "    print(key, val)\n",
    "\n",
    "#io"
   ]
  },
  {
   "cell_type": "markdown",
   "metadata": {},
   "source": [
    "### <mark>Plot Graph</mark>\n"
   ]
  },
  {
   "cell_type": "code",
   "execution_count": 20,
   "metadata": {},
   "outputs": [
    {
     "data": {
      "image/svg+xml": "<?xml version=\"1.0\" encoding=\"utf-8\" standalone=\"no\"?>\n<!DOCTYPE svg PUBLIC \"-//W3C//DTD SVG 1.1//EN\"\n  \"http://www.w3.org/Graphics/SVG/1.1/DTD/svg11.dtd\">\n<svg xmlns:xlink=\"http://www.w3.org/1999/xlink\" width=\"556.137703pt\" height=\"331.674375pt\" viewBox=\"0 0 556.137703 331.674375\" xmlns=\"http://www.w3.org/2000/svg\" version=\"1.1\">\n <metadata>\n  <rdf:RDF xmlns:dc=\"http://purl.org/dc/elements/1.1/\" xmlns:cc=\"http://creativecommons.org/ns#\" xmlns:rdf=\"http://www.w3.org/1999/02/22-rdf-syntax-ns#\">\n   <cc:Work>\n    <dc:type rdf:resource=\"http://purl.org/dc/dcmitype/StillImage\"/>\n    <dc:date>2023-02-17T11:42:06.445959</dc:date>\n    <dc:format>image/svg+xml</dc:format>\n    <dc:creator>\n     <cc:Agent>\n      <dc:title>Matplotlib v3.5.1, https://matplotlib.org/</dc:title>\n     </cc:Agent>\n    </dc:creator>\n   </cc:Work>\n  </rdf:RDF>\n </metadata>\n <defs>\n  <style type=\"text/css\">*{stroke-linejoin: round; stroke-linecap: butt}</style>\n </defs>\n <g id=\"figure_1\">\n  <g id=\"patch_1\">\n   <path d=\"M 0 331.674375 \nL 556.137703 331.674375 \nL 556.137703 0 \nL 0 0 \nL 0 331.674375 \nz\n\" style=\"fill: none\"/>\n  </g>\n  <g id=\"axes_1\">\n   <g id=\"patch_2\">\n    <path d=\"M 97.18125 294.118125 \nL 543.58125 294.118125 \nL 543.58125 22.318125 \nL 97.18125 22.318125 \nz\n\" style=\"fill: #ffffff\"/>\n   </g>\n   <g id=\"patch_3\">\n    <path d=\"M 311.250343 281.76358 \nL 366.21318 281.76358 \nL 366.21318 252.694061 \nL 311.250343 252.694061 \nz\n\" clip-path=\"url(#p9b4e99c2ea)\" style=\"fill: #800080\"/>\n   </g>\n   <g id=\"patch_4\">\n    <path d=\"M 311.250343 245.426681 \nL 504.58994 245.426681 \nL 504.58994 216.357162 \nL 311.250343 216.357162 \nz\n\" clip-path=\"url(#p9b4e99c2ea)\" style=\"fill: #800080\"/>\n   </g>\n   <g id=\"patch_5\">\n    <path d=\"M 311.250343 209.089783 \nL 256.046744 209.089783 \nL 256.046744 180.020264 \nL 311.250343 180.020264 \nz\n\" clip-path=\"url(#p9b4e99c2ea)\" style=\"fill: #800080\"/>\n   </g>\n   <g id=\"patch_6\">\n    <path d=\"M 311.250343 172.752884 \nL 117.472159 172.752884 \nL 117.472159 143.683366 \nL 311.250343 143.683366 \nz\n\" clip-path=\"url(#p9b4e99c2ea)\" style=\"fill: #800080\"/>\n   </g>\n   <g id=\"patch_7\">\n    <path d=\"M 311.250343 136.415986 \nL 523.290341 136.415986 \nL 523.290341 107.346467 \nL 311.250343 107.346467 \nz\n\" clip-path=\"url(#p9b4e99c2ea)\" style=\"fill: #800080\"/>\n   </g>\n   <g id=\"patch_8\">\n    <path d=\"M 311.250343 100.079088 \nL 307.390031 100.079088 \nL 307.390031 71.009569 \nL 311.250343 71.009569 \nz\n\" clip-path=\"url(#p9b4e99c2ea)\" style=\"fill: #800080\"/>\n   </g>\n   <g id=\"patch_9\">\n    <path d=\"M 311.250343 63.742189 \nL 355.129081 63.742189 \nL 355.129081 34.67267 \nL 311.250343 34.67267 \nz\n\" clip-path=\"url(#p9b4e99c2ea)\" style=\"fill: #800080\"/>\n   </g>\n   <g id=\"matplotlib.axis_1\">\n    <g id=\"xtick_1\">\n     <g id=\"line2d_1\">\n      <path d=\"M 141.334432 294.118125 \nL 141.334432 22.318125 \n\" clip-path=\"url(#p9b4e99c2ea)\" style=\"fill: none; stroke-dasharray: 3.7,1.6; stroke-dashoffset: 0; stroke: #000000\"/>\n     </g>\n     <g id=\"line2d_2\">\n      <defs>\n       <path id=\"m3a7a43edc3\" d=\"M 0 0 \nL 0 3.5 \n\" style=\"stroke: #000000; stroke-width: 0.8\"/>\n      </defs>\n      <g>\n       <use xlink:href=\"#m3a7a43edc3\" x=\"141.334432\" y=\"294.118125\" style=\"stroke: #000000; stroke-width: 0.8\"/>\n      </g>\n     </g>\n     <g id=\"text_1\">\n      <!-- −0.75 -->\n      <g transform=\"translate(126.011776 308.716563)scale(0.1 -0.1)\">\n       <defs>\n        <path id=\"DejaVuSans-2212\" d=\"M 678 2272 \nL 4684 2272 \nL 4684 1741 \nL 678 1741 \nL 678 2272 \nz\n\" transform=\"scale(0.015625)\"/>\n        <path id=\"DejaVuSans-30\" d=\"M 2034 4250 \nQ 1547 4250 1301 3770 \nQ 1056 3291 1056 2328 \nQ 1056 1369 1301 889 \nQ 1547 409 2034 409 \nQ 2525 409 2770 889 \nQ 3016 1369 3016 2328 \nQ 3016 3291 2770 3770 \nQ 2525 4250 2034 4250 \nz\nM 2034 4750 \nQ 2819 4750 3233 4129 \nQ 3647 3509 3647 2328 \nQ 3647 1150 3233 529 \nQ 2819 -91 2034 -91 \nQ 1250 -91 836 529 \nQ 422 1150 422 2328 \nQ 422 3509 836 4129 \nQ 1250 4750 2034 4750 \nz\n\" transform=\"scale(0.015625)\"/>\n        <path id=\"DejaVuSans-2e\" d=\"M 684 794 \nL 1344 794 \nL 1344 0 \nL 684 0 \nL 684 794 \nz\n\" transform=\"scale(0.015625)\"/>\n        <path id=\"DejaVuSans-37\" d=\"M 525 4666 \nL 3525 4666 \nL 3525 4397 \nL 1831 0 \nL 1172 0 \nL 2766 4134 \nL 525 4134 \nL 525 4666 \nz\n\" transform=\"scale(0.015625)\"/>\n        <path id=\"DejaVuSans-35\" d=\"M 691 4666 \nL 3169 4666 \nL 3169 4134 \nL 1269 4134 \nL 1269 2991 \nQ 1406 3038 1543 3061 \nQ 1681 3084 1819 3084 \nQ 2600 3084 3056 2656 \nQ 3513 2228 3513 1497 \nQ 3513 744 3044 326 \nQ 2575 -91 1722 -91 \nQ 1428 -91 1123 -41 \nQ 819 9 494 109 \nL 494 744 \nQ 775 591 1075 516 \nQ 1375 441 1709 441 \nQ 2250 441 2565 725 \nQ 2881 1009 2881 1497 \nQ 2881 1984 2565 2268 \nQ 2250 2553 1709 2553 \nQ 1456 2553 1204 2497 \nQ 953 2441 691 2322 \nL 691 4666 \nz\n\" transform=\"scale(0.015625)\"/>\n       </defs>\n       <use xlink:href=\"#DejaVuSans-2212\"/>\n       <use xlink:href=\"#DejaVuSans-30\" x=\"83.789062\"/>\n       <use xlink:href=\"#DejaVuSans-2e\" x=\"147.412109\"/>\n       <use xlink:href=\"#DejaVuSans-37\" x=\"179.199219\"/>\n       <use xlink:href=\"#DejaVuSans-35\" x=\"242.822266\"/>\n      </g>\n     </g>\n    </g>\n    <g id=\"xtick_2\">\n     <g id=\"line2d_3\">\n      <path d=\"M 197.973069 294.118125 \nL 197.973069 22.318125 \n\" clip-path=\"url(#p9b4e99c2ea)\" style=\"fill: none; stroke-dasharray: 3.7,1.6; stroke-dashoffset: 0; stroke: #000000\"/>\n     </g>\n     <g id=\"line2d_4\">\n      <g>\n       <use xlink:href=\"#m3a7a43edc3\" x=\"197.973069\" y=\"294.118125\" style=\"stroke: #000000; stroke-width: 0.8\"/>\n      </g>\n     </g>\n     <g id=\"text_2\">\n      <!-- −0.50 -->\n      <g transform=\"translate(182.650413 308.716563)scale(0.1 -0.1)\">\n       <use xlink:href=\"#DejaVuSans-2212\"/>\n       <use xlink:href=\"#DejaVuSans-30\" x=\"83.789062\"/>\n       <use xlink:href=\"#DejaVuSans-2e\" x=\"147.412109\"/>\n       <use xlink:href=\"#DejaVuSans-35\" x=\"179.199219\"/>\n       <use xlink:href=\"#DejaVuSans-30\" x=\"242.822266\"/>\n      </g>\n     </g>\n    </g>\n    <g id=\"xtick_3\">\n     <g id=\"line2d_5\">\n      <path d=\"M 254.611706 294.118125 \nL 254.611706 22.318125 \n\" clip-path=\"url(#p9b4e99c2ea)\" style=\"fill: none; stroke-dasharray: 3.7,1.6; stroke-dashoffset: 0; stroke: #000000\"/>\n     </g>\n     <g id=\"line2d_6\">\n      <g>\n       <use xlink:href=\"#m3a7a43edc3\" x=\"254.611706\" y=\"294.118125\" style=\"stroke: #000000; stroke-width: 0.8\"/>\n      </g>\n     </g>\n     <g id=\"text_3\">\n      <!-- −0.25 -->\n      <g transform=\"translate(239.28905 308.716563)scale(0.1 -0.1)\">\n       <defs>\n        <path id=\"DejaVuSans-32\" d=\"M 1228 531 \nL 3431 531 \nL 3431 0 \nL 469 0 \nL 469 531 \nQ 828 903 1448 1529 \nQ 2069 2156 2228 2338 \nQ 2531 2678 2651 2914 \nQ 2772 3150 2772 3378 \nQ 2772 3750 2511 3984 \nQ 2250 4219 1831 4219 \nQ 1534 4219 1204 4116 \nQ 875 4013 500 3803 \nL 500 4441 \nQ 881 4594 1212 4672 \nQ 1544 4750 1819 4750 \nQ 2544 4750 2975 4387 \nQ 3406 4025 3406 3419 \nQ 3406 3131 3298 2873 \nQ 3191 2616 2906 2266 \nQ 2828 2175 2409 1742 \nQ 1991 1309 1228 531 \nz\n\" transform=\"scale(0.015625)\"/>\n       </defs>\n       <use xlink:href=\"#DejaVuSans-2212\"/>\n       <use xlink:href=\"#DejaVuSans-30\" x=\"83.789062\"/>\n       <use xlink:href=\"#DejaVuSans-2e\" x=\"147.412109\"/>\n       <use xlink:href=\"#DejaVuSans-32\" x=\"179.199219\"/>\n       <use xlink:href=\"#DejaVuSans-35\" x=\"242.822266\"/>\n      </g>\n     </g>\n    </g>\n    <g id=\"xtick_4\">\n     <g id=\"line2d_7\">\n      <path d=\"M 311.250343 294.118125 \nL 311.250343 22.318125 \n\" clip-path=\"url(#p9b4e99c2ea)\" style=\"fill: none; stroke-dasharray: 3.7,1.6; stroke-dashoffset: 0; stroke: #000000\"/>\n     </g>\n     <g id=\"line2d_8\">\n      <g>\n       <use xlink:href=\"#m3a7a43edc3\" x=\"311.250343\" y=\"294.118125\" style=\"stroke: #000000; stroke-width: 0.8\"/>\n      </g>\n     </g>\n     <g id=\"text_4\">\n      <!-- 0.00 -->\n      <g transform=\"translate(300.11753 308.716563)scale(0.1 -0.1)\">\n       <use xlink:href=\"#DejaVuSans-30\"/>\n       <use xlink:href=\"#DejaVuSans-2e\" x=\"63.623047\"/>\n       <use xlink:href=\"#DejaVuSans-30\" x=\"95.410156\"/>\n       <use xlink:href=\"#DejaVuSans-30\" x=\"159.033203\"/>\n      </g>\n     </g>\n    </g>\n    <g id=\"xtick_5\">\n     <g id=\"line2d_9\">\n      <path d=\"M 367.88898 294.118125 \nL 367.88898 22.318125 \n\" clip-path=\"url(#p9b4e99c2ea)\" style=\"fill: none; stroke-dasharray: 3.7,1.6; stroke-dashoffset: 0; stroke: #000000\"/>\n     </g>\n     <g id=\"line2d_10\">\n      <g>\n       <use xlink:href=\"#m3a7a43edc3\" x=\"367.88898\" y=\"294.118125\" style=\"stroke: #000000; stroke-width: 0.8\"/>\n      </g>\n     </g>\n     <g id=\"text_5\">\n      <!-- 0.25 -->\n      <g transform=\"translate(356.756167 308.716563)scale(0.1 -0.1)\">\n       <use xlink:href=\"#DejaVuSans-30\"/>\n       <use xlink:href=\"#DejaVuSans-2e\" x=\"63.623047\"/>\n       <use xlink:href=\"#DejaVuSans-32\" x=\"95.410156\"/>\n       <use xlink:href=\"#DejaVuSans-35\" x=\"159.033203\"/>\n      </g>\n     </g>\n    </g>\n    <g id=\"xtick_6\">\n     <g id=\"line2d_11\">\n      <path d=\"M 424.527617 294.118125 \nL 424.527617 22.318125 \n\" clip-path=\"url(#p9b4e99c2ea)\" style=\"fill: none; stroke-dasharray: 3.7,1.6; stroke-dashoffset: 0; stroke: #000000\"/>\n     </g>\n     <g id=\"line2d_12\">\n      <g>\n       <use xlink:href=\"#m3a7a43edc3\" x=\"424.527617\" y=\"294.118125\" style=\"stroke: #000000; stroke-width: 0.8\"/>\n      </g>\n     </g>\n     <g id=\"text_6\">\n      <!-- 0.50 -->\n      <g transform=\"translate(413.394804 308.716563)scale(0.1 -0.1)\">\n       <use xlink:href=\"#DejaVuSans-30\"/>\n       <use xlink:href=\"#DejaVuSans-2e\" x=\"63.623047\"/>\n       <use xlink:href=\"#DejaVuSans-35\" x=\"95.410156\"/>\n       <use xlink:href=\"#DejaVuSans-30\" x=\"159.033203\"/>\n      </g>\n     </g>\n    </g>\n    <g id=\"xtick_7\">\n     <g id=\"line2d_13\">\n      <path d=\"M 481.166254 294.118125 \nL 481.166254 22.318125 \n\" clip-path=\"url(#p9b4e99c2ea)\" style=\"fill: none; stroke-dasharray: 3.7,1.6; stroke-dashoffset: 0; stroke: #000000\"/>\n     </g>\n     <g id=\"line2d_14\">\n      <g>\n       <use xlink:href=\"#m3a7a43edc3\" x=\"481.166254\" y=\"294.118125\" style=\"stroke: #000000; stroke-width: 0.8\"/>\n      </g>\n     </g>\n     <g id=\"text_7\">\n      <!-- 0.75 -->\n      <g transform=\"translate(470.033441 308.716563)scale(0.1 -0.1)\">\n       <use xlink:href=\"#DejaVuSans-30\"/>\n       <use xlink:href=\"#DejaVuSans-2e\" x=\"63.623047\"/>\n       <use xlink:href=\"#DejaVuSans-37\" x=\"95.410156\"/>\n       <use xlink:href=\"#DejaVuSans-35\" x=\"159.033203\"/>\n      </g>\n     </g>\n    </g>\n    <g id=\"xtick_8\">\n     <g id=\"line2d_15\">\n      <path d=\"M 537.804891 294.118125 \nL 537.804891 22.318125 \n\" clip-path=\"url(#p9b4e99c2ea)\" style=\"fill: none; stroke-dasharray: 3.7,1.6; stroke-dashoffset: 0; stroke: #000000\"/>\n     </g>\n     <g id=\"line2d_16\">\n      <g>\n       <use xlink:href=\"#m3a7a43edc3\" x=\"537.804891\" y=\"294.118125\" style=\"stroke: #000000; stroke-width: 0.8\"/>\n      </g>\n     </g>\n     <g id=\"text_8\">\n      <!-- 1.00 -->\n      <g transform=\"translate(526.672078 308.716563)scale(0.1 -0.1)\">\n       <defs>\n        <path id=\"DejaVuSans-31\" d=\"M 794 531 \nL 1825 531 \nL 1825 4091 \nL 703 3866 \nL 703 4441 \nL 1819 4666 \nL 2450 4666 \nL 2450 531 \nL 3481 531 \nL 3481 0 \nL 794 0 \nL 794 531 \nz\n\" transform=\"scale(0.015625)\"/>\n       </defs>\n       <use xlink:href=\"#DejaVuSans-31\"/>\n       <use xlink:href=\"#DejaVuSans-2e\" x=\"63.623047\"/>\n       <use xlink:href=\"#DejaVuSans-30\" x=\"95.410156\"/>\n       <use xlink:href=\"#DejaVuSans-30\" x=\"159.033203\"/>\n      </g>\n     </g>\n    </g>\n    <g id=\"xtick_9\">\n     <g id=\"line2d_17\">\n      <defs>\n       <path id=\"m2b293a5c87\" d=\"M 0 0 \nL 0 2 \n\" style=\"stroke: #000000; stroke-width: 0.6\"/>\n      </defs>\n      <g>\n       <use xlink:href=\"#m2b293a5c87\" x=\"113.015113\" y=\"294.118125\" style=\"stroke: #000000; stroke-width: 0.6\"/>\n      </g>\n     </g>\n    </g>\n    <g id=\"xtick_10\">\n     <g id=\"line2d_18\">\n      <g>\n       <use xlink:href=\"#m2b293a5c87\" x=\"169.65375\" y=\"294.118125\" style=\"stroke: #000000; stroke-width: 0.6\"/>\n      </g>\n     </g>\n    </g>\n    <g id=\"xtick_11\">\n     <g id=\"line2d_19\">\n      <g>\n       <use xlink:href=\"#m2b293a5c87\" x=\"226.292387\" y=\"294.118125\" style=\"stroke: #000000; stroke-width: 0.6\"/>\n      </g>\n     </g>\n    </g>\n    <g id=\"xtick_12\">\n     <g id=\"line2d_20\">\n      <g>\n       <use xlink:href=\"#m2b293a5c87\" x=\"282.931024\" y=\"294.118125\" style=\"stroke: #000000; stroke-width: 0.6\"/>\n      </g>\n     </g>\n    </g>\n    <g id=\"xtick_13\">\n     <g id=\"line2d_21\">\n      <g>\n       <use xlink:href=\"#m2b293a5c87\" x=\"339.569661\" y=\"294.118125\" style=\"stroke: #000000; stroke-width: 0.6\"/>\n      </g>\n     </g>\n    </g>\n    <g id=\"xtick_14\">\n     <g id=\"line2d_22\">\n      <g>\n       <use xlink:href=\"#m2b293a5c87\" x=\"396.208298\" y=\"294.118125\" style=\"stroke: #000000; stroke-width: 0.6\"/>\n      </g>\n     </g>\n    </g>\n    <g id=\"xtick_15\">\n     <g id=\"line2d_23\">\n      <g>\n       <use xlink:href=\"#m2b293a5c87\" x=\"452.846935\" y=\"294.118125\" style=\"stroke: #000000; stroke-width: 0.6\"/>\n      </g>\n     </g>\n    </g>\n    <g id=\"xtick_16\">\n     <g id=\"line2d_24\">\n      <g>\n       <use xlink:href=\"#m2b293a5c87\" x=\"509.485572\" y=\"294.118125\" style=\"stroke: #000000; stroke-width: 0.6\"/>\n      </g>\n     </g>\n    </g>\n    <g id=\"text_9\">\n     <!-- Voltage (V) -->\n     <g transform=\"translate(292.714063 322.394687)scale(0.1 -0.1)\">\n      <defs>\n       <path id=\"DejaVuSans-56\" d=\"M 1831 0 \nL 50 4666 \nL 709 4666 \nL 2188 738 \nL 3669 4666 \nL 4325 4666 \nL 2547 0 \nL 1831 0 \nz\n\" transform=\"scale(0.015625)\"/>\n       <path id=\"DejaVuSans-6f\" d=\"M 1959 3097 \nQ 1497 3097 1228 2736 \nQ 959 2375 959 1747 \nQ 959 1119 1226 758 \nQ 1494 397 1959 397 \nQ 2419 397 2687 759 \nQ 2956 1122 2956 1747 \nQ 2956 2369 2687 2733 \nQ 2419 3097 1959 3097 \nz\nM 1959 3584 \nQ 2709 3584 3137 3096 \nQ 3566 2609 3566 1747 \nQ 3566 888 3137 398 \nQ 2709 -91 1959 -91 \nQ 1206 -91 779 398 \nQ 353 888 353 1747 \nQ 353 2609 779 3096 \nQ 1206 3584 1959 3584 \nz\n\" transform=\"scale(0.015625)\"/>\n       <path id=\"DejaVuSans-6c\" d=\"M 603 4863 \nL 1178 4863 \nL 1178 0 \nL 603 0 \nL 603 4863 \nz\n\" transform=\"scale(0.015625)\"/>\n       <path id=\"DejaVuSans-74\" d=\"M 1172 4494 \nL 1172 3500 \nL 2356 3500 \nL 2356 3053 \nL 1172 3053 \nL 1172 1153 \nQ 1172 725 1289 603 \nQ 1406 481 1766 481 \nL 2356 481 \nL 2356 0 \nL 1766 0 \nQ 1100 0 847 248 \nQ 594 497 594 1153 \nL 594 3053 \nL 172 3053 \nL 172 3500 \nL 594 3500 \nL 594 4494 \nL 1172 4494 \nz\n\" transform=\"scale(0.015625)\"/>\n       <path id=\"DejaVuSans-61\" d=\"M 2194 1759 \nQ 1497 1759 1228 1600 \nQ 959 1441 959 1056 \nQ 959 750 1161 570 \nQ 1363 391 1709 391 \nQ 2188 391 2477 730 \nQ 2766 1069 2766 1631 \nL 2766 1759 \nL 2194 1759 \nz\nM 3341 1997 \nL 3341 0 \nL 2766 0 \nL 2766 531 \nQ 2569 213 2275 61 \nQ 1981 -91 1556 -91 \nQ 1019 -91 701 211 \nQ 384 513 384 1019 \nQ 384 1609 779 1909 \nQ 1175 2209 1959 2209 \nL 2766 2209 \nL 2766 2266 \nQ 2766 2663 2505 2880 \nQ 2244 3097 1772 3097 \nQ 1472 3097 1187 3025 \nQ 903 2953 641 2809 \nL 641 3341 \nQ 956 3463 1253 3523 \nQ 1550 3584 1831 3584 \nQ 2591 3584 2966 3190 \nQ 3341 2797 3341 1997 \nz\n\" transform=\"scale(0.015625)\"/>\n       <path id=\"DejaVuSans-67\" d=\"M 2906 1791 \nQ 2906 2416 2648 2759 \nQ 2391 3103 1925 3103 \nQ 1463 3103 1205 2759 \nQ 947 2416 947 1791 \nQ 947 1169 1205 825 \nQ 1463 481 1925 481 \nQ 2391 481 2648 825 \nQ 2906 1169 2906 1791 \nz\nM 3481 434 \nQ 3481 -459 3084 -895 \nQ 2688 -1331 1869 -1331 \nQ 1566 -1331 1297 -1286 \nQ 1028 -1241 775 -1147 \nL 775 -588 \nQ 1028 -725 1275 -790 \nQ 1522 -856 1778 -856 \nQ 2344 -856 2625 -561 \nQ 2906 -266 2906 331 \nL 2906 616 \nQ 2728 306 2450 153 \nQ 2172 0 1784 0 \nQ 1141 0 747 490 \nQ 353 981 353 1791 \nQ 353 2603 747 3093 \nQ 1141 3584 1784 3584 \nQ 2172 3584 2450 3431 \nQ 2728 3278 2906 2969 \nL 2906 3500 \nL 3481 3500 \nL 3481 434 \nz\n\" transform=\"scale(0.015625)\"/>\n       <path id=\"DejaVuSans-65\" d=\"M 3597 1894 \nL 3597 1613 \nL 953 1613 \nQ 991 1019 1311 708 \nQ 1631 397 2203 397 \nQ 2534 397 2845 478 \nQ 3156 559 3463 722 \nL 3463 178 \nQ 3153 47 2828 -22 \nQ 2503 -91 2169 -91 \nQ 1331 -91 842 396 \nQ 353 884 353 1716 \nQ 353 2575 817 3079 \nQ 1281 3584 2069 3584 \nQ 2775 3584 3186 3129 \nQ 3597 2675 3597 1894 \nz\nM 3022 2063 \nQ 3016 2534 2758 2815 \nQ 2500 3097 2075 3097 \nQ 1594 3097 1305 2825 \nQ 1016 2553 972 2059 \nL 3022 2063 \nz\n\" transform=\"scale(0.015625)\"/>\n       <path id=\"DejaVuSans-20\" transform=\"scale(0.015625)\"/>\n       <path id=\"DejaVuSans-28\" d=\"M 1984 4856 \nQ 1566 4138 1362 3434 \nQ 1159 2731 1159 2009 \nQ 1159 1288 1364 580 \nQ 1569 -128 1984 -844 \nL 1484 -844 \nQ 1016 -109 783 600 \nQ 550 1309 550 2009 \nQ 550 2706 781 3412 \nQ 1013 4119 1484 4856 \nL 1984 4856 \nz\n\" transform=\"scale(0.015625)\"/>\n       <path id=\"DejaVuSans-29\" d=\"M 513 4856 \nL 1013 4856 \nQ 1481 4119 1714 3412 \nQ 1947 2706 1947 2009 \nQ 1947 1309 1714 600 \nQ 1481 -109 1013 -844 \nL 513 -844 \nQ 928 -128 1133 580 \nQ 1338 1288 1338 2009 \nQ 1338 2731 1133 3434 \nQ 928 4138 513 4856 \nz\n\" transform=\"scale(0.015625)\"/>\n      </defs>\n      <use xlink:href=\"#DejaVuSans-56\"/>\n      <use xlink:href=\"#DejaVuSans-6f\" x=\"60.658203\"/>\n      <use xlink:href=\"#DejaVuSans-6c\" x=\"121.839844\"/>\n      <use xlink:href=\"#DejaVuSans-74\" x=\"149.623047\"/>\n      <use xlink:href=\"#DejaVuSans-61\" x=\"188.832031\"/>\n      <use xlink:href=\"#DejaVuSans-67\" x=\"250.111328\"/>\n      <use xlink:href=\"#DejaVuSans-65\" x=\"313.587891\"/>\n      <use xlink:href=\"#DejaVuSans-20\" x=\"375.111328\"/>\n      <use xlink:href=\"#DejaVuSans-28\" x=\"406.898438\"/>\n      <use xlink:href=\"#DejaVuSans-56\" x=\"445.912109\"/>\n      <use xlink:href=\"#DejaVuSans-29\" x=\"514.320312\"/>\n     </g>\n    </g>\n   </g>\n   <g id=\"matplotlib.axis_2\">\n    <g id=\"ytick_1\">\n     <g id=\"line2d_25\">\n      <defs>\n       <path id=\"m65e46c75b3\" d=\"M 0 0 \nL -3.5 0 \n\" style=\"stroke: #000000; stroke-width: 0.8\"/>\n      </defs>\n      <g>\n       <use xlink:href=\"#m65e46c75b3\" x=\"97.18125\" y=\"267.22882\" style=\"stroke: #000000; stroke-width: 0.8\"/>\n      </g>\n     </g>\n     <g id=\"text_10\">\n      <!-- V(WORD2.p0) -->\n      <g transform=\"translate(20.878125 271.028039)scale(0.1 -0.1)\">\n       <defs>\n        <path id=\"DejaVuSans-57\" d=\"M 213 4666 \nL 850 4666 \nL 1831 722 \nL 2809 4666 \nL 3519 4666 \nL 4500 722 \nL 5478 4666 \nL 6119 4666 \nL 4947 0 \nL 4153 0 \nL 3169 4050 \nL 2175 0 \nL 1381 0 \nL 213 4666 \nz\n\" transform=\"scale(0.015625)\"/>\n        <path id=\"DejaVuSans-4f\" d=\"M 2522 4238 \nQ 1834 4238 1429 3725 \nQ 1025 3213 1025 2328 \nQ 1025 1447 1429 934 \nQ 1834 422 2522 422 \nQ 3209 422 3611 934 \nQ 4013 1447 4013 2328 \nQ 4013 3213 3611 3725 \nQ 3209 4238 2522 4238 \nz\nM 2522 4750 \nQ 3503 4750 4090 4092 \nQ 4678 3434 4678 2328 \nQ 4678 1225 4090 567 \nQ 3503 -91 2522 -91 \nQ 1538 -91 948 565 \nQ 359 1222 359 2328 \nQ 359 3434 948 4092 \nQ 1538 4750 2522 4750 \nz\n\" transform=\"scale(0.015625)\"/>\n        <path id=\"DejaVuSans-52\" d=\"M 2841 2188 \nQ 3044 2119 3236 1894 \nQ 3428 1669 3622 1275 \nL 4263 0 \nL 3584 0 \nL 2988 1197 \nQ 2756 1666 2539 1819 \nQ 2322 1972 1947 1972 \nL 1259 1972 \nL 1259 0 \nL 628 0 \nL 628 4666 \nL 2053 4666 \nQ 2853 4666 3247 4331 \nQ 3641 3997 3641 3322 \nQ 3641 2881 3436 2590 \nQ 3231 2300 2841 2188 \nz\nM 1259 4147 \nL 1259 2491 \nL 2053 2491 \nQ 2509 2491 2742 2702 \nQ 2975 2913 2975 3322 \nQ 2975 3731 2742 3939 \nQ 2509 4147 2053 4147 \nL 1259 4147 \nz\n\" transform=\"scale(0.015625)\"/>\n        <path id=\"DejaVuSans-44\" d=\"M 1259 4147 \nL 1259 519 \nL 2022 519 \nQ 2988 519 3436 956 \nQ 3884 1394 3884 2338 \nQ 3884 3275 3436 3711 \nQ 2988 4147 2022 4147 \nL 1259 4147 \nz\nM 628 4666 \nL 1925 4666 \nQ 3281 4666 3915 4102 \nQ 4550 3538 4550 2338 \nQ 4550 1131 3912 565 \nQ 3275 0 1925 0 \nL 628 0 \nL 628 4666 \nz\n\" transform=\"scale(0.015625)\"/>\n        <path id=\"DejaVuSans-70\" d=\"M 1159 525 \nL 1159 -1331 \nL 581 -1331 \nL 581 3500 \nL 1159 3500 \nL 1159 2969 \nQ 1341 3281 1617 3432 \nQ 1894 3584 2278 3584 \nQ 2916 3584 3314 3078 \nQ 3713 2572 3713 1747 \nQ 3713 922 3314 415 \nQ 2916 -91 2278 -91 \nQ 1894 -91 1617 61 \nQ 1341 213 1159 525 \nz\nM 3116 1747 \nQ 3116 2381 2855 2742 \nQ 2594 3103 2138 3103 \nQ 1681 3103 1420 2742 \nQ 1159 2381 1159 1747 \nQ 1159 1113 1420 752 \nQ 1681 391 2138 391 \nQ 2594 391 2855 752 \nQ 3116 1113 3116 1747 \nz\n\" transform=\"scale(0.015625)\"/>\n       </defs>\n       <use xlink:href=\"#DejaVuSans-56\"/>\n       <use xlink:href=\"#DejaVuSans-28\" x=\"68.408203\"/>\n       <use xlink:href=\"#DejaVuSans-57\" x=\"107.421875\"/>\n       <use xlink:href=\"#DejaVuSans-4f\" x=\"206.298828\"/>\n       <use xlink:href=\"#DejaVuSans-52\" x=\"285.009766\"/>\n       <use xlink:href=\"#DejaVuSans-44\" x=\"354.492188\"/>\n       <use xlink:href=\"#DejaVuSans-32\" x=\"431.494141\"/>\n       <use xlink:href=\"#DejaVuSans-2e\" x=\"495.117188\"/>\n       <use xlink:href=\"#DejaVuSans-70\" x=\"526.904297\"/>\n       <use xlink:href=\"#DejaVuSans-30\" x=\"590.380859\"/>\n       <use xlink:href=\"#DejaVuSans-29\" x=\"654.003906\"/>\n      </g>\n     </g>\n    </g>\n    <g id=\"ytick_2\">\n     <g id=\"line2d_26\">\n      <g>\n       <use xlink:href=\"#m65e46c75b3\" x=\"97.18125\" y=\"230.891922\" style=\"stroke: #000000; stroke-width: 0.8\"/>\n      </g>\n     </g>\n     <g id=\"text_11\">\n      <!-- V(WORD2.p1) -->\n      <g transform=\"translate(20.878125 234.691141)scale(0.1 -0.1)\">\n       <use xlink:href=\"#DejaVuSans-56\"/>\n       <use xlink:href=\"#DejaVuSans-28\" x=\"68.408203\"/>\n       <use xlink:href=\"#DejaVuSans-57\" x=\"107.421875\"/>\n       <use xlink:href=\"#DejaVuSans-4f\" x=\"206.298828\"/>\n       <use xlink:href=\"#DejaVuSans-52\" x=\"285.009766\"/>\n       <use xlink:href=\"#DejaVuSans-44\" x=\"354.492188\"/>\n       <use xlink:href=\"#DejaVuSans-32\" x=\"431.494141\"/>\n       <use xlink:href=\"#DejaVuSans-2e\" x=\"495.117188\"/>\n       <use xlink:href=\"#DejaVuSans-70\" x=\"526.904297\"/>\n       <use xlink:href=\"#DejaVuSans-31\" x=\"590.380859\"/>\n       <use xlink:href=\"#DejaVuSans-29\" x=\"654.003906\"/>\n      </g>\n     </g>\n    </g>\n    <g id=\"ytick_3\">\n     <g id=\"line2d_27\">\n      <g>\n       <use xlink:href=\"#m65e46c75b3\" x=\"97.18125\" y=\"194.555023\" style=\"stroke: #000000; stroke-width: 0.8\"/>\n      </g>\n     </g>\n     <g id=\"text_12\">\n      <!-- V(WORD2.n0) -->\n      <g transform=\"translate(20.889063 198.354242)scale(0.1 -0.1)\">\n       <defs>\n        <path id=\"DejaVuSans-6e\" d=\"M 3513 2113 \nL 3513 0 \nL 2938 0 \nL 2938 2094 \nQ 2938 2591 2744 2837 \nQ 2550 3084 2163 3084 \nQ 1697 3084 1428 2787 \nQ 1159 2491 1159 1978 \nL 1159 0 \nL 581 0 \nL 581 3500 \nL 1159 3500 \nL 1159 2956 \nQ 1366 3272 1645 3428 \nQ 1925 3584 2291 3584 \nQ 2894 3584 3203 3211 \nQ 3513 2838 3513 2113 \nz\n\" transform=\"scale(0.015625)\"/>\n       </defs>\n       <use xlink:href=\"#DejaVuSans-56\"/>\n       <use xlink:href=\"#DejaVuSans-28\" x=\"68.408203\"/>\n       <use xlink:href=\"#DejaVuSans-57\" x=\"107.421875\"/>\n       <use xlink:href=\"#DejaVuSans-4f\" x=\"206.298828\"/>\n       <use xlink:href=\"#DejaVuSans-52\" x=\"285.009766\"/>\n       <use xlink:href=\"#DejaVuSans-44\" x=\"354.492188\"/>\n       <use xlink:href=\"#DejaVuSans-32\" x=\"431.494141\"/>\n       <use xlink:href=\"#DejaVuSans-2e\" x=\"495.117188\"/>\n       <use xlink:href=\"#DejaVuSans-6e\" x=\"526.904297\"/>\n       <use xlink:href=\"#DejaVuSans-30\" x=\"590.283203\"/>\n       <use xlink:href=\"#DejaVuSans-29\" x=\"653.90625\"/>\n      </g>\n     </g>\n    </g>\n    <g id=\"ytick_4\">\n     <g id=\"line2d_28\">\n      <g>\n       <use xlink:href=\"#m65e46c75b3\" x=\"97.18125\" y=\"158.218125\" style=\"stroke: #000000; stroke-width: 0.8\"/>\n      </g>\n     </g>\n     <g id=\"text_13\">\n      <!-- V(WORD2.n1) -->\n      <g transform=\"translate(20.889063 162.017344)scale(0.1 -0.1)\">\n       <use xlink:href=\"#DejaVuSans-56\"/>\n       <use xlink:href=\"#DejaVuSans-28\" x=\"68.408203\"/>\n       <use xlink:href=\"#DejaVuSans-57\" x=\"107.421875\"/>\n       <use xlink:href=\"#DejaVuSans-4f\" x=\"206.298828\"/>\n       <use xlink:href=\"#DejaVuSans-52\" x=\"285.009766\"/>\n       <use xlink:href=\"#DejaVuSans-44\" x=\"354.492188\"/>\n       <use xlink:href=\"#DejaVuSans-32\" x=\"431.494141\"/>\n       <use xlink:href=\"#DejaVuSans-2e\" x=\"495.117188\"/>\n       <use xlink:href=\"#DejaVuSans-6e\" x=\"526.904297\"/>\n       <use xlink:href=\"#DejaVuSans-31\" x=\"590.283203\"/>\n       <use xlink:href=\"#DejaVuSans-29\" x=\"653.90625\"/>\n      </g>\n     </g>\n    </g>\n    <g id=\"ytick_5\">\n     <g id=\"line2d_29\">\n      <g>\n       <use xlink:href=\"#m65e46c75b3\" x=\"97.18125\" y=\"121.881227\" style=\"stroke: #000000; stroke-width: 0.8\"/>\n      </g>\n     </g>\n     <g id=\"text_14\">\n      <!-- V(OUTPUT.0) -->\n      <g transform=\"translate(26.429688 125.680445)scale(0.1 -0.1)\">\n       <defs>\n        <path id=\"DejaVuSans-55\" d=\"M 556 4666 \nL 1191 4666 \nL 1191 1831 \nQ 1191 1081 1462 751 \nQ 1734 422 2344 422 \nQ 2950 422 3222 751 \nQ 3494 1081 3494 1831 \nL 3494 4666 \nL 4128 4666 \nL 4128 1753 \nQ 4128 841 3676 375 \nQ 3225 -91 2344 -91 \nQ 1459 -91 1007 375 \nQ 556 841 556 1753 \nL 556 4666 \nz\n\" transform=\"scale(0.015625)\"/>\n        <path id=\"DejaVuSans-54\" d=\"M -19 4666 \nL 3928 4666 \nL 3928 4134 \nL 2272 4134 \nL 2272 0 \nL 1638 0 \nL 1638 4134 \nL -19 4134 \nL -19 4666 \nz\n\" transform=\"scale(0.015625)\"/>\n        <path id=\"DejaVuSans-50\" d=\"M 1259 4147 \nL 1259 2394 \nL 2053 2394 \nQ 2494 2394 2734 2622 \nQ 2975 2850 2975 3272 \nQ 2975 3691 2734 3919 \nQ 2494 4147 2053 4147 \nL 1259 4147 \nz\nM 628 4666 \nL 2053 4666 \nQ 2838 4666 3239 4311 \nQ 3641 3956 3641 3272 \nQ 3641 2581 3239 2228 \nQ 2838 1875 2053 1875 \nL 1259 1875 \nL 1259 0 \nL 628 0 \nL 628 4666 \nz\n\" transform=\"scale(0.015625)\"/>\n       </defs>\n       <use xlink:href=\"#DejaVuSans-56\"/>\n       <use xlink:href=\"#DejaVuSans-28\" x=\"68.408203\"/>\n       <use xlink:href=\"#DejaVuSans-4f\" x=\"107.421875\"/>\n       <use xlink:href=\"#DejaVuSans-55\" x=\"186.132812\"/>\n       <use xlink:href=\"#DejaVuSans-54\" x=\"259.326172\"/>\n       <use xlink:href=\"#DejaVuSans-50\" x=\"320.410156\"/>\n       <use xlink:href=\"#DejaVuSans-55\" x=\"380.712891\"/>\n       <use xlink:href=\"#DejaVuSans-54\" x=\"453.90625\"/>\n       <use xlink:href=\"#DejaVuSans-2e\" x=\"503.115234\"/>\n       <use xlink:href=\"#DejaVuSans-30\" x=\"534.902344\"/>\n       <use xlink:href=\"#DejaVuSans-29\" x=\"598.525391\"/>\n      </g>\n     </g>\n    </g>\n    <g id=\"ytick_6\">\n     <g id=\"line2d_30\">\n      <g>\n       <use xlink:href=\"#m65e46c75b3\" x=\"97.18125\" y=\"85.544328\" style=\"stroke: #000000; stroke-width: 0.8\"/>\n      </g>\n     </g>\n     <g id=\"text_15\">\n      <!-- V(OUTPUT.1) -->\n      <g transform=\"translate(26.429688 89.343547)scale(0.1 -0.1)\">\n       <use xlink:href=\"#DejaVuSans-56\"/>\n       <use xlink:href=\"#DejaVuSans-28\" x=\"68.408203\"/>\n       <use xlink:href=\"#DejaVuSans-4f\" x=\"107.421875\"/>\n       <use xlink:href=\"#DejaVuSans-55\" x=\"186.132812\"/>\n       <use xlink:href=\"#DejaVuSans-54\" x=\"259.326172\"/>\n       <use xlink:href=\"#DejaVuSans-50\" x=\"320.410156\"/>\n       <use xlink:href=\"#DejaVuSans-55\" x=\"380.712891\"/>\n       <use xlink:href=\"#DejaVuSans-54\" x=\"453.90625\"/>\n       <use xlink:href=\"#DejaVuSans-2e\" x=\"503.115234\"/>\n       <use xlink:href=\"#DejaVuSans-31\" x=\"534.902344\"/>\n       <use xlink:href=\"#DejaVuSans-29\" x=\"598.525391\"/>\n      </g>\n     </g>\n    </g>\n    <g id=\"ytick_7\">\n     <g id=\"line2d_31\">\n      <g>\n       <use xlink:href=\"#m65e46c75b3\" x=\"97.18125\" y=\"49.20743\" style=\"stroke: #000000; stroke-width: 0.8\"/>\n      </g>\n     </g>\n     <g id=\"text_16\">\n      <!-- V(OUTPUT.2) -->\n      <g transform=\"translate(26.429688 53.006649)scale(0.1 -0.1)\">\n       <use xlink:href=\"#DejaVuSans-56\"/>\n       <use xlink:href=\"#DejaVuSans-28\" x=\"68.408203\"/>\n       <use xlink:href=\"#DejaVuSans-4f\" x=\"107.421875\"/>\n       <use xlink:href=\"#DejaVuSans-55\" x=\"186.132812\"/>\n       <use xlink:href=\"#DejaVuSans-54\" x=\"259.326172\"/>\n       <use xlink:href=\"#DejaVuSans-50\" x=\"320.410156\"/>\n       <use xlink:href=\"#DejaVuSans-55\" x=\"380.712891\"/>\n       <use xlink:href=\"#DejaVuSans-54\" x=\"453.90625\"/>\n       <use xlink:href=\"#DejaVuSans-2e\" x=\"503.115234\"/>\n       <use xlink:href=\"#DejaVuSans-32\" x=\"534.902344\"/>\n       <use xlink:href=\"#DejaVuSans-29\" x=\"598.525391\"/>\n      </g>\n     </g>\n    </g>\n    <g id=\"text_17\">\n     <!-- Variable -->\n     <g transform=\"translate(14.798437 178.463438)rotate(-90)scale(0.1 -0.1)\">\n      <defs>\n       <path id=\"DejaVuSans-72\" d=\"M 2631 2963 \nQ 2534 3019 2420 3045 \nQ 2306 3072 2169 3072 \nQ 1681 3072 1420 2755 \nQ 1159 2438 1159 1844 \nL 1159 0 \nL 581 0 \nL 581 3500 \nL 1159 3500 \nL 1159 2956 \nQ 1341 3275 1631 3429 \nQ 1922 3584 2338 3584 \nQ 2397 3584 2469 3576 \nQ 2541 3569 2628 3553 \nL 2631 2963 \nz\n\" transform=\"scale(0.015625)\"/>\n       <path id=\"DejaVuSans-69\" d=\"M 603 3500 \nL 1178 3500 \nL 1178 0 \nL 603 0 \nL 603 3500 \nz\nM 603 4863 \nL 1178 4863 \nL 1178 4134 \nL 603 4134 \nL 603 4863 \nz\n\" transform=\"scale(0.015625)\"/>\n       <path id=\"DejaVuSans-62\" d=\"M 3116 1747 \nQ 3116 2381 2855 2742 \nQ 2594 3103 2138 3103 \nQ 1681 3103 1420 2742 \nQ 1159 2381 1159 1747 \nQ 1159 1113 1420 752 \nQ 1681 391 2138 391 \nQ 2594 391 2855 752 \nQ 3116 1113 3116 1747 \nz\nM 1159 2969 \nQ 1341 3281 1617 3432 \nQ 1894 3584 2278 3584 \nQ 2916 3584 3314 3078 \nQ 3713 2572 3713 1747 \nQ 3713 922 3314 415 \nQ 2916 -91 2278 -91 \nQ 1894 -91 1617 61 \nQ 1341 213 1159 525 \nL 1159 0 \nL 581 0 \nL 581 4863 \nL 1159 4863 \nL 1159 2969 \nz\n\" transform=\"scale(0.015625)\"/>\n      </defs>\n      <use xlink:href=\"#DejaVuSans-56\"/>\n      <use xlink:href=\"#DejaVuSans-61\" x=\"60.658203\"/>\n      <use xlink:href=\"#DejaVuSans-72\" x=\"121.9375\"/>\n      <use xlink:href=\"#DejaVuSans-69\" x=\"163.050781\"/>\n      <use xlink:href=\"#DejaVuSans-61\" x=\"190.833984\"/>\n      <use xlink:href=\"#DejaVuSans-62\" x=\"252.113281\"/>\n      <use xlink:href=\"#DejaVuSans-6c\" x=\"315.589844\"/>\n      <use xlink:href=\"#DejaVuSans-65\" x=\"343.373047\"/>\n     </g>\n    </g>\n   </g>\n   <g id=\"patch_10\">\n    <path d=\"M 97.18125 294.118125 \nL 97.18125 22.318125 \n\" style=\"fill: none; stroke: #000000; stroke-width: 0.8; stroke-linejoin: miter; stroke-linecap: square\"/>\n   </g>\n   <g id=\"patch_11\">\n    <path d=\"M 543.58125 294.118125 \nL 543.58125 22.318125 \n\" style=\"fill: none; stroke: #000000; stroke-width: 0.8; stroke-linejoin: miter; stroke-linecap: square\"/>\n   </g>\n   <g id=\"patch_12\">\n    <path d=\"M 97.18125 294.118125 \nL 543.58125 294.118125 \n\" style=\"fill: none; stroke: #000000; stroke-width: 0.8; stroke-linejoin: miter; stroke-linecap: square\"/>\n   </g>\n   <g id=\"patch_13\">\n    <path d=\"M 97.18125 22.318125 \nL 543.58125 22.318125 \n\" style=\"fill: none; stroke: #000000; stroke-width: 0.8; stroke-linejoin: miter; stroke-linecap: square\"/>\n   </g>\n   <g id=\"text_18\">\n    <!-- Simulation -->\n    <g transform=\"translate(288.421875 16.318125)scale(0.12 -0.12)\">\n     <defs>\n      <path id=\"DejaVuSans-53\" d=\"M 3425 4513 \nL 3425 3897 \nQ 3066 4069 2747 4153 \nQ 2428 4238 2131 4238 \nQ 1616 4238 1336 4038 \nQ 1056 3838 1056 3469 \nQ 1056 3159 1242 3001 \nQ 1428 2844 1947 2747 \nL 2328 2669 \nQ 3034 2534 3370 2195 \nQ 3706 1856 3706 1288 \nQ 3706 609 3251 259 \nQ 2797 -91 1919 -91 \nQ 1588 -91 1214 -16 \nQ 841 59 441 206 \nL 441 856 \nQ 825 641 1194 531 \nQ 1563 422 1919 422 \nQ 2459 422 2753 634 \nQ 3047 847 3047 1241 \nQ 3047 1584 2836 1778 \nQ 2625 1972 2144 2069 \nL 1759 2144 \nQ 1053 2284 737 2584 \nQ 422 2884 422 3419 \nQ 422 4038 858 4394 \nQ 1294 4750 2059 4750 \nQ 2388 4750 2728 4690 \nQ 3069 4631 3425 4513 \nz\n\" transform=\"scale(0.015625)\"/>\n      <path id=\"DejaVuSans-6d\" d=\"M 3328 2828 \nQ 3544 3216 3844 3400 \nQ 4144 3584 4550 3584 \nQ 5097 3584 5394 3201 \nQ 5691 2819 5691 2113 \nL 5691 0 \nL 5113 0 \nL 5113 2094 \nQ 5113 2597 4934 2840 \nQ 4756 3084 4391 3084 \nQ 3944 3084 3684 2787 \nQ 3425 2491 3425 1978 \nL 3425 0 \nL 2847 0 \nL 2847 2094 \nQ 2847 2600 2669 2842 \nQ 2491 3084 2119 3084 \nQ 1678 3084 1418 2786 \nQ 1159 2488 1159 1978 \nL 1159 0 \nL 581 0 \nL 581 3500 \nL 1159 3500 \nL 1159 2956 \nQ 1356 3278 1631 3431 \nQ 1906 3584 2284 3584 \nQ 2666 3584 2933 3390 \nQ 3200 3197 3328 2828 \nz\n\" transform=\"scale(0.015625)\"/>\n      <path id=\"DejaVuSans-75\" d=\"M 544 1381 \nL 544 3500 \nL 1119 3500 \nL 1119 1403 \nQ 1119 906 1312 657 \nQ 1506 409 1894 409 \nQ 2359 409 2629 706 \nQ 2900 1003 2900 1516 \nL 2900 3500 \nL 3475 3500 \nL 3475 0 \nL 2900 0 \nL 2900 538 \nQ 2691 219 2414 64 \nQ 2138 -91 1772 -91 \nQ 1169 -91 856 284 \nQ 544 659 544 1381 \nz\nM 1991 3584 \nL 1991 3584 \nz\n\" transform=\"scale(0.015625)\"/>\n     </defs>\n     <use xlink:href=\"#DejaVuSans-53\"/>\n     <use xlink:href=\"#DejaVuSans-69\" x=\"63.476562\"/>\n     <use xlink:href=\"#DejaVuSans-6d\" x=\"91.259766\"/>\n     <use xlink:href=\"#DejaVuSans-75\" x=\"188.671875\"/>\n     <use xlink:href=\"#DejaVuSans-6c\" x=\"252.050781\"/>\n     <use xlink:href=\"#DejaVuSans-61\" x=\"279.833984\"/>\n     <use xlink:href=\"#DejaVuSans-74\" x=\"341.113281\"/>\n     <use xlink:href=\"#DejaVuSans-69\" x=\"380.322266\"/>\n     <use xlink:href=\"#DejaVuSans-6f\" x=\"408.105469\"/>\n     <use xlink:href=\"#DejaVuSans-6e\" x=\"469.287109\"/>\n    </g>\n   </g>\n   <g id=\"legend_1\">\n    <g id=\"patch_14\">\n     <path d=\"M 469.845312 44.99625 \nL 536.58125 44.99625 \nQ 538.58125 44.99625 538.58125 42.99625 \nL 538.58125 29.318125 \nQ 538.58125 27.318125 536.58125 27.318125 \nL 469.845312 27.318125 \nQ 467.845312 27.318125 467.845312 29.318125 \nL 467.845312 42.99625 \nQ 467.845312 44.99625 469.845312 44.99625 \nz\n\" style=\"fill: #ffffff; opacity: 0.8; stroke: #cccccc; stroke-linejoin: miter\"/>\n    </g>\n    <g id=\"patch_15\">\n     <path d=\"M 471.845312 38.916563 \nL 491.845312 38.916563 \nL 491.845312 31.916563 \nL 471.845312 31.916563 \nz\n\" style=\"fill: #800080\"/>\n    </g>\n    <g id=\"text_19\">\n     <!-- Output -->\n     <g transform=\"translate(499.845312 38.916563)scale(0.1 -0.1)\">\n      <use xlink:href=\"#DejaVuSans-4f\"/>\n      <use xlink:href=\"#DejaVuSans-75\" x=\"78.710938\"/>\n      <use xlink:href=\"#DejaVuSans-74\" x=\"142.089844\"/>\n      <use xlink:href=\"#DejaVuSans-70\" x=\"181.298828\"/>\n      <use xlink:href=\"#DejaVuSans-75\" x=\"244.775391\"/>\n      <use xlink:href=\"#DejaVuSans-74\" x=\"308.154297\"/>\n     </g>\n    </g>\n   </g>\n  </g>\n </g>\n <defs>\n  <clipPath id=\"p9b4e99c2ea\">\n   <rect x=\"97.18125\" y=\"22.318125\" width=\"446.4\" height=\"271.8\"/>\n  </clipPath>\n </defs>\n</svg>\n",
      "text/plain": [
       "<Figure size 576x360 with 1 Axes>"
      ]
     },
     "metadata": {
      "needs_background": "light"
     },
     "output_type": "display_data"
    }
   ],
   "source": [
    "%matplotlib inline\n",
    "%config InlineBackend.figure_formats = ['svg']\n",
    "import matplotlib.pyplot as plt\n",
    "from matplotlib.ticker import (AutoMinorLocator, MultipleLocator)\n",
    "\n",
    "plt.figure(figsize=(8,5))\n",
    "\n",
    "y = list(result['output_voltage'].values())\n",
    "x = list(result['output_voltage'].keys())\n",
    "plt.barh(x, y, label=\"Output\", height=0.4*2, align='center', color='purple')\n",
    "\n",
    "plt.title('Simulation')\n",
    "plt.xlabel('Voltage (V)')\n",
    "plt.ylabel('Variable')\n",
    "plt.legend()\n",
    "\n",
    "#plt.gca().xaxis.set_major_locator(MultipleLocator(interval))\n",
    "plt.gca().xaxis.set_minor_locator(AutoMinorLocator(2))\n",
    "plt.grid(which='major', axis='x', color='black', linestyle ='--', linewidth = 1)\n",
    "plt.show()"
   ]
  },
  {
   "attachments": {},
   "cell_type": "markdown",
   "metadata": {},
   "source": [
    "### <mark>Cleanup</mark>"
   ]
  },
  {
   "cell_type": "code",
   "execution_count": 21,
   "metadata": {},
   "outputs": [
    {
     "name": "stdout",
     "output_type": "stream",
     "text": [
      "mkdir: created directory 'delete_20230217_1142'\n",
      "mv: cannot stat '*.log': No such file or directory\n",
      "mv: cannot stat '*.plt': No such file or directory\n",
      "mv: cannot stat '*.raw': No such file or directory\n"
     ]
    }
   ],
   "source": [
    "def delete_helper(thefile, debug=False):\n",
    "    thedatetime =  __import__(\"datetime\").datetime.now().strftime(\"%Y%m%d_%H%M\")\n",
    "    thefolder = \"delete_\" + thedatetime\n",
    "    !mkdir -v -p {thefolder}\n",
    "    if not debug:\n",
    "        !mv {thefile} {thefolder}\n",
    "    else:\n",
    "        !ls {thefile}\n",
    "\n",
    "# Cell\n",
    "delete_helper(CELL_PARAMETERS['filename'] + \".asc\")\n",
    "delete_helper(CELL_PARAMETERS['filename'] + \".asy\")\n",
    "# CBA1\n",
    "delete_helper(CBA1_PARAMETERS['filename'] + \".asc\")\n",
    "delete_helper(CBA1_PARAMETERS['filename'] + \".asy\")\n",
    "# CBA2\n",
    "delete_helper(CBA2_PARAMETERS['filename'] + \".asc\")\n",
    "delete_helper(CBA2_PARAMETERS['filename'] + \".asy\")\n",
    "# NEU1\n",
    "delete_helper(NEURON1_PARAMETERS['filename'] + \".asc\")\n",
    "delete_helper(NEURON1_PARAMETERS['filename'] + \".asy\")\n",
    "# NEU2\n",
    "delete_helper(NEURON2_PARAMETERS['filename'] + \".asc\")\n",
    "delete_helper(NEURON2_PARAMETERS['filename'] + \".asy\")\n",
    "# Wrapper\n",
    "delete_helper(WRAPPER_PARAMETERS['filename'] + \".asc\")\n",
    "# Simulation temporary files\n",
    "delete_helper(\"*_tmp*\")\n",
    "delete_helper(\"*.net*\")\n",
    "# LTSpice temporary files\n",
    "delete_helper(\"*.log *.plt *.raw\")\n"
   ]
  },
  {
   "attachments": {},
   "cell_type": "markdown",
   "metadata": {},
   "source": [
    "The End"
   ]
  }
 ],
 "metadata": {
  "kernelspec": {
   "display_name": "Python 3.10.4 64-bit",
   "language": "python",
   "name": "python3"
  },
  "language_info": {
   "codemirror_mode": {
    "name": "ipython",
    "version": 3
   },
   "file_extension": ".py",
   "mimetype": "text/x-python",
   "name": "python",
   "nbconvert_exporter": "python",
   "pygments_lexer": "ipython3",
   "version": "3.10.6"
  },
  "orig_nbformat": 4,
  "vscode": {
   "interpreter": {
    "hash": "916dbcbb3f70747c44a77c7bcd40155683ae19c65e1c03b4aa3499c5328201f1"
   }
  }
 },
 "nbformat": 4,
 "nbformat_minor": 2
}
